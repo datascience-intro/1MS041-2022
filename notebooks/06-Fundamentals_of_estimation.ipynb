{
 "cells": [
  {
   "cell_type": "markdown",
   "metadata": {
    "deletable": false
   },
   "source": [
    "# [Introduction to Data Science](http://datascience-intro.github.io/1MS041-2022/)    \n",
    "## 1MS041, 2022 \n",
    "&copy;2022 Raazesh Sainudiin, Benny Avelin. [Attribution 4.0 International     (CC BY 4.0)](https://creativecommons.org/licenses/by/4.0/)"
   ]
  },
  {
   "cell_type": "markdown",
   "metadata": {},
   "source": [
    "# Fundamentals of estimation"
   ]
  },
  {
   "cell_type": "markdown",
   "metadata": {},
   "source": [
    "## Example 1, the mean"
   ]
  },
  {
   "cell_type": "code",
   "execution_count": null,
   "metadata": {},
   "outputs": [],
   "source": [
    "import numpy as np\n",
    "def mean_estimator(x): # x is our data\n",
    "    return np.mean(x)"
   ]
  },
  {
   "cell_type": "code",
   "execution_count": null,
   "metadata": {},
   "outputs": [],
   "source": [
    "sample = np.random.normal(size=100)\n",
    "mean_estimator(sample)"
   ]
  },
  {
   "cell_type": "markdown",
   "metadata": {},
   "source": [
    "## Example 2, linear regression"
   ]
  },
  {
   "cell_type": "code",
   "execution_count": null,
   "metadata": {},
   "outputs": [],
   "source": [
    "def linear_regression(x,y):\n",
    "    # Here x,y is our data\n",
    "    from sklearn.linear_model import LinearRegression\n",
    "    lr = LinearRegression()\n",
    "    lr.fit(x,y)\n",
    "    return lambda x1: lr.predict(x1)"
   ]
  },
  {
   "cell_type": "code",
   "execution_count": null,
   "metadata": {},
   "outputs": [],
   "source": [
    "sample_x = np.random.uniform(0,1,size=100).reshape(-1,1)\n",
    "sample_y = 3*sample_x.flatten()+np.random.normal(0,1,size=sample_x.shape[0])\n",
    "g_star = linear_regression(sample_x,sample_y)\n",
    "\n",
    "# Lets plot out function\n",
    "import matplotlib.pyplot as plt\n",
    "x_plot = np.linspace(0,1,10)\n",
    "plt.xlim(0,1)\n",
    "plt.ylim(0,4)\n",
    "plt.plot(x_plot,g_star(x_plot.reshape(-1,1)))"
   ]
  },
  {
   "cell_type": "code",
   "execution_count": null,
   "metadata": {},
   "outputs": [],
   "source": [
    "import matplotlib.pyplot as plt\n",
    "for i in range(10):\n",
    "    sample_x = np.random.uniform(0,1,size=10).reshape(-1,1)\n",
    "    sample_y = 3*sample_x.flatten()+np.random.normal(0,1,size=sample_x.shape[0])\n",
    "    g_star = linear_regression(sample_x,sample_y)\n",
    "\n",
    "    # Lets plot out function\n",
    "    plt.scatter(sample_x,sample_y)\n",
    "    x_plot = np.linspace(0,1,10)\n",
    "    plt.plot(x_plot,g_star(x_plot.reshape(-1,1)))"
   ]
  },
  {
   "cell_type": "code",
   "execution_count": null,
   "metadata": {},
   "outputs": [],
   "source": [
    "import matplotlib.pyplot as plt\n",
    "for i in range(1000):\n",
    "    sample_x = np.random.uniform(0,1,size=10).reshape(-1,1)\n",
    "    sample_y = 3*sample_x.flatten()+np.random.normal(0,1,size=sample_x.shape[0])\n",
    "    g_star = linear_regression(sample_x,sample_y)\n",
    "\n",
    "    # Lets plot out function\n",
    "    #plt.scatter(sample_x,sample_y,alpha=0.1,color='blue')\n",
    "    x_plot = np.linspace(0,1,10)\n",
    "    plt.plot(x_plot,g_star(x_plot.reshape(-1,1)),alpha=0.01,color='red')"
   ]
  },
  {
   "cell_type": "markdown",
   "metadata": {},
   "source": [
    "## Example, testing error"
   ]
  },
  {
   "cell_type": "code",
   "execution_count": null,
   "metadata": {},
   "outputs": [],
   "source": [
    "def gen_data(n_samples):\n",
    "    sample_x = np.random.uniform(0,1,size=n_samples).reshape(-1,1)\n",
    "    sample_y = 3*sample_x.flatten()+np.random.normal(0,1,size=sample_x.shape[0])\n",
    "    return sample_x,sample_y"
   ]
  },
  {
   "cell_type": "code",
   "execution_count": null,
   "metadata": {},
   "outputs": [],
   "source": [
    "xtrain,ytrain = gen_data(10)\n",
    "g_star = linear_regression(xtrain,ytrain)"
   ]
  },
  {
   "cell_type": "code",
   "execution_count": null,
   "metadata": {},
   "outputs": [],
   "source": [
    "def test_error():\n",
    "    xtest,ytest = gen_data(100)\n",
    "    predictions = g_star(xtest)\n",
    "    residual = ytest-predictions\n",
    "    return np.mean(residual**2)"
   ]
  },
  {
   "cell_type": "code",
   "execution_count": null,
   "metadata": {},
   "outputs": [],
   "source": [
    "plt.hist([test_error() for i in range(100)])"
   ]
  },
  {
   "cell_type": "markdown",
   "metadata": {},
   "source": [
    "## Strong law of large numbers"
   ]
  },
  {
   "cell_type": "code",
   "execution_count": null,
   "metadata": {},
   "outputs": [],
   "source": [
    "X = np.random.uniform(0,1,size=10000)\n",
    "mean = np.cumsum(X)/np.arange(1,X.shape[0]+1)\n",
    "plt.plot(mean)"
   ]
  },
  {
   "cell_type": "code",
   "execution_count": null,
   "metadata": {},
   "outputs": [],
   "source": [
    "X = np.random.exponential(size=1000)\n",
    "Y = np.sin(X)*np.exp(X)/X\n",
    "mean = np.cumsum(Y)/np.arange(1,Y.shape[0]+1)\n",
    "plt.plot(mean)"
   ]
  },
  {
   "cell_type": "markdown",
   "metadata": {},
   "source": [
    "## Convergence in distribution"
   ]
  },
  {
   "cell_type": "code",
   "execution_count": null,
   "metadata": {},
   "outputs": [],
   "source": [
    "for  i in range(1,50,2):\n",
    "    x = np.linspace(-1,1,1000)\n",
    "    sigma = 1/i\n",
    "    plt.plot(x,(1/np.sqrt(2*sigma*np.pi))*np.exp(-x**2/sigma**2))"
   ]
  }
 ],
 "metadata": {
  "kernelspec": {
   "display_name": "Python 3 (ipykernel)",
   "language": "python",
   "name": "python3"
  },
  "language_info": {
   "codemirror_mode": {
    "name": "ipython",
    "version": 3
   },
   "file_extension": ".py",
   "mimetype": "text/x-python",
   "name": "python",
   "nbconvert_exporter": "python",
   "pygments_lexer": "ipython3",
   "version": "3.9.13"
  },
  "lx_course_instance": "2022",
  "lx_course_name": "Introduction to Data Science",
  "lx_course_number": "1MS041"
 },
 "nbformat": 4,
 "nbformat_minor": 5
}
