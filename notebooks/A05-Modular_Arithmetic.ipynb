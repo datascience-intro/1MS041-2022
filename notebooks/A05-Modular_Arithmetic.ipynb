{
 "cells": [
  {
   "cell_type": "markdown",
   "id": "1e535267",
   "metadata": {},
   "source": [
    "## Modular arithmetic\n",
    "\n",
    "Modular arithmetic (arithmetic modulo $m$) is a central theme in number theory and is crucial for generating random numbers from a computer (i.e., *machine-implementation of probabilistic objects*).  Being able to do this is essential for computational statistical experiments and methods that help do this are called Monte Carlo methods.  Such computer-generated random numbers are technically called *pseudo-random numbers*.\n",
    "\n",
    "In this notebook we are going to learn to add and multiply modulo $m$ (this part of our notebook is adapted from William Stein's SageMath worksheet on Modular Arithmetic for the purposes of linear congruential generators).  If you want a more thorough treatment see [Modular Arithmetic](https://en.wikipedia.org/wiki/Modular_arithmetic) as displayed below."
   ]
  },
  {
   "cell_type": "code",
   "execution_count": 3,
   "id": "7a71059a",
   "metadata": {
    "scrolled": true
   },
   "outputs": [
    {
     "data": {
      "text/html": [
       "\n",
       "        <iframe\n",
       "            width=\"95%\"\n",
       "            height=\"500\"\n",
       "            src=\"https://en.wikipedia.org/wiki/Modular_arithmetic\"\n",
       "            frameborder=\"0\"\n",
       "            allowfullscreen\n",
       "        ></iframe>\n",
       "        "
      ],
      "text/plain": [
       "<IPython.lib.display.IFrame object at 0x7f1b3e0c1a58>"
      ]
     },
     "execution_count": 3,
     "metadata": {},
     "output_type": "execute_result"
    }
   ],
   "source": [
    "showURL(\"https://en.wikipedia.org/wiki/Modular_arithmetic\",500)"
   ]
  },
  {
   "cell_type": "markdown",
   "id": "390f2e0c",
   "metadata": {},
   "source": [
    "Remember when we talked about the modulus operator `%`?  The modulus operator gives the remainder after division:"
   ]
  },
  {
   "cell_type": "code",
   "execution_count": 4,
   "id": "a15a4b90",
   "metadata": {},
   "outputs": [
    {
     "data": {
      "text/plain": [
       "2"
      ]
     },
     "execution_count": 4,
     "metadata": {},
     "output_type": "execute_result"
    }
   ],
   "source": [
    "14%12 # \"14 modulo 12\" or just \"14 mod 12\""
   ]
  },
  {
   "cell_type": "code",
   "execution_count": 5,
   "id": "2885dfea",
   "metadata": {
    "scrolled": true
   },
   "outputs": [
    {
     "name": "stdout",
     "output_type": "stream",
     "text": [
      "[0, 1, 2, 3, 4, 5, 6, 7, 8, 9, 10, 11, 12, 13, 14, 15, 16, 17, 18, 19, 20, 21, 22, 23]\n"
     ]
    }
   ],
   "source": [
    "zeroto23Hours = range(0,24,1)  # 0,1,2...,23 hours in the 24-hours clock\n",
    "print(list(zeroto23Hours))"
   ]
  },
  {
   "cell_type": "code",
   "execution_count": 6,
   "id": "5c578bc9",
   "metadata": {
    "scrolled": true
   },
   "outputs": [
    {
     "data": {
      "text/plain": [
       "[0, 1, 2, 3, 4, 5, 6, 7, 8, 9, 10, 11, 0, 1, 2, 3, 4, 5, 6, 7, 8, 9, 10, 11]"
      ]
     },
     "execution_count": 6,
     "metadata": {},
     "output_type": "execute_result"
    }
   ],
   "source": [
    "[x%12 for x in range(0,24,1)]  # x%12 for the 24 hours in the analog clock"
   ]
  },
  {
   "cell_type": "code",
   "execution_count": 7,
   "id": "55a3ae75",
   "metadata": {
    "scrolled": true
   },
   "outputs": [
    {
     "data": {
      "text/plain": [
       "{0, 1, 2, 3, 4, 5, 6, 7, 8, 9, 10, 11}"
      ]
     },
     "execution_count": 7,
     "metadata": {},
     "output_type": "execute_result"
    }
   ],
   "source": [
    "set([x%12 for x in range(0,24,1)]) # unique hours 0,1,2,...,11 in analog clock by making a set out of the list"
   ]
  },
  {
   "cell_type": "markdown",
   "id": "8e146683",
   "metadata": {},
   "source": [
    "Arithmetic modulo $m$ is like usual arithmetic, except every time you add or multiply, you also divide by $m$ and return the remainder.  For example, working modulo $m=12$, we have:\n",
    "\n",
    "$$8 + 6 = 14 = 2$$\n",
    "\n",
    "since $2$ is the remainder of the division of $14$ by $12$.  \n",
    "\n",
    "Think of this as like the hours on a regular analog clock.  We already  do modular addition on a regular basis when we think about time, for example when answering the question:\n",
    "\n",
    "Question: If it is 8pm now then what time will it be after I have spent the 6 hours that I am supposed to dedicate this week toward this course?  \n",
    "\n",
    "Answer: 2am.\n",
    "\n",
    "Modular addition and multiplication with numbers modulo $m$ is well defined, and has the following properties:\n",
    "\n",
    "- $a + b = b+a$     (addition is commutative)\n",
    "- $a \\cdot b = b \\cdot a$     (multiplication is commutative)\n",
    "- $a\\cdot (b + c) = a\\cdot b + a\\cdot c$    (multiplication is distributive over addition)\n",
    "- If $a$ is coprime to $m$ (i.e., not divisible by any of the same primes), then there is a unique $b$ (mod $m$) such that $a\\cdot b=1$.\n",
    "\n",
    "Let us make a matrix of results from addition and multiplication modulo 4.\n",
    "\n",
    "Before that realise that arithmetic over a set $\\mathbb{M}$ is merely a function from the Cartesian product $\\mathbb{M} \\times \\mathbb{M}$ of all pairs in $\\mathbb{M}$ to $\\mathbb{M}$:\n",
    "\n",
    "$$\n",
    "\\star : \\mathbb{M} \\times \\mathbb{M} \\to \\mathbb{M}\n",
    "$$\n",
    "\n",
    "where $\\star$ is usually $+$ for \"addition\" or $*$ for \"multiplication\".\n",
    "\n",
    "Thus, we can think of arithmetic as a set of three-tuples:\n",
    "$$(x_1, x_2, x_3) \\in \\mathbb{M}^3 := \\mathbb{M} \\times \\mathbb{M} \\times \\mathbb{M}, \\quad \\text{where} \\quad x_3 = x_1 \\star x_2. $$"
   ]
  },
  {
   "cell_type": "code",
   "execution_count": 8,
   "id": "c38ff676",
   "metadata": {
    "scrolled": true
   },
   "outputs": [
    {
     "data": {
      "text/plain": [
       "[1 2 3]\n",
       "[4 5 6]"
      ]
     },
     "execution_count": 8,
     "metadata": {},
     "output_type": "execute_result"
    }
   ],
   "source": [
    "mySageMatrix = matrix(2,3,[1, 2, 3, 4, 5, 6]) # this is how you make a 2X3 matrix in Sage\n",
    "mySageMatrix"
   ]
  },
  {
   "cell_type": "code",
   "execution_count": 9,
   "id": "6b0d24ef",
   "metadata": {
    "scrolled": true
   },
   "outputs": [
    {
     "data": {
      "text/plain": [
       "<class 'sage.matrix.matrix_integer_dense.Matrix_integer_dense'>"
      ]
     },
     "execution_count": 9,
     "metadata": {},
     "output_type": "execute_result"
    }
   ],
   "source": [
    "type(mySageMatrix) # the type says a lot"
   ]
  },
  {
   "cell_type": "code",
   "execution_count": 10,
   "id": "53a14446",
   "metadata": {
    "scrolled": true
   },
   "outputs": [],
   "source": [
    "# uncomment next line and put cursor after . and hit Tab to see available methods\n",
    "#mySageMatrix."
   ]
  },
  {
   "cell_type": "markdown",
   "id": "e0b0ba1e",
   "metadata": {},
   "source": [
    "Let us list all the three-tuples for addition modulo 4 next."
   ]
  },
  {
   "cell_type": "code",
   "execution_count": 11,
   "id": "8326f3d1",
   "metadata": {
    "scrolled": true
   },
   "outputs": [
    {
     "data": {
      "text/plain": [
       "[(0, 0, 0),\n",
       " (0, 1, 1),\n",
       " (0, 2, 2),\n",
       " (0, 3, 3),\n",
       " (1, 0, 1),\n",
       " (1, 1, 2),\n",
       " (1, 2, 3),\n",
       " (1, 3, 0),\n",
       " (2, 0, 2),\n",
       " (2, 1, 3),\n",
       " (2, 2, 0),\n",
       " (2, 3, 1),\n",
       " (3, 0, 3),\n",
       " (3, 1, 0),\n",
       " (3, 2, 1),\n",
       " (3, 3, 2)]"
      ]
     },
     "execution_count": 11,
     "metadata": {},
     "output_type": "execute_result"
    }
   ],
   "source": [
    "m=4;\n",
    "# list (i,j, (i+j) mod m) as (i,j) range in [0,1,2,3]\n",
    "[(i,j,(i+j)%m) for i in range(m) for j in range(m)]"
   ]
  },
  {
   "cell_type": "code",
   "execution_count": 12,
   "id": "9fc002cf",
   "metadata": {
    "scrolled": true
   },
   "outputs": [
    {
     "data": {
      "text/plain": [
       "[0, 1, 2, 3, 1, 2, 3, 0, 2, 3, 0, 1, 3, 0, 1, 2]"
      ]
     },
     "execution_count": 12,
     "metadata": {},
     "output_type": "execute_result"
    }
   ],
   "source": [
    "[(i+j)%m for i in range(m) for j in range(m)] \n",
    "# just the third element of the three-tuple from above"
   ]
  },
  {
   "cell_type": "markdown",
   "id": "cd699e5e",
   "metadata": {},
   "source": [
    "Since the arguments to addition modulo m are fixed in a square array $[0,1,2\\ldots,m-1]\\times[0,1,2\\ldots,m-1]$ we can simply focus on the image of the arithmetic modulo $m$ operation and place it over the square array using the following matrix call:"
   ]
  },
  {
   "cell_type": "code",
   "execution_count": 13,
   "id": "4a903c6b",
   "metadata": {
    "scrolled": true
   },
   "outputs": [
    {
     "data": {
      "text/plain": [
       "[0 1 2 3]\n",
       "[1 2 3 0]\n",
       "[2 3 0 1]\n",
       "[3 0 1 2]"
      ]
     },
     "execution_count": 13,
     "metadata": {},
     "output_type": "execute_result"
    }
   ],
   "source": [
    "#addition mod m\n",
    "matrix(m,m,[(i+j)%m for i in range(m) for j in range(m)])"
   ]
  },
  {
   "cell_type": "code",
   "execution_count": 14,
   "id": "55a39360",
   "metadata": {
    "scrolled": true
   },
   "outputs": [
    {
     "data": {
      "text/plain": [
       "[0 0 0 0]\n",
       "[0 1 2 3]\n",
       "[0 2 0 2]\n",
       "[0 3 2 1]"
      ]
     },
     "execution_count": 14,
     "metadata": {},
     "output_type": "execute_result"
    }
   ],
   "source": [
    "# multiplication mod m\n",
    "matrix(m,m,[(i*j)%m for i in range(m) for j in range(m)])"
   ]
  },
  {
   "cell_type": "markdown",
   "id": "41d41fcd",
   "metadata": {},
   "source": [
    "### Visualize Modular Arithmetic\n",
    "In the following interactive image (created by William Stein) we make an addition and multiplication table modulo $m$, where you can control $m$ with the slider.   Try changing $m$ and seeing what effect it has:"
   ]
  },
  {
   "cell_type": "code",
   "execution_count": 15,
   "id": "49ba1e1b",
   "metadata": {
    "scrolled": true
   },
   "outputs": [
    {
     "data": {
      "application/vnd.jupyter.widget-view+json": {
       "model_id": "71a769aab1a74cf390982a97094d73cd",
       "version_major": 2,
       "version_minor": 0
      },
      "text/plain": [
       "Interactive function <function mult_table at 0x7f1b3e094e18> with 2 widgets\n",
       "  m: SelectionSlider(description='…"
      ]
     },
     "execution_count": 15,
     "metadata": {},
     "output_type": "execute_result"
    }
   ],
   "source": [
    "import matplotlib.cm\n",
    "cmaps = ['gray'] + list(sorted(matplotlib.cm.datad.keys()))\n",
    "\n",
    "@interact\n",
    "def mult_table(m=(4,(1..200)), cmap=(\"Color Map\",cmaps)):\n",
    "    Add = matrix(m,m,[(i+j)%m for i in range(m) for j in range(m)])\n",
    "    Mult = matrix(m,m,[(i*j)%m for i in range(m) for j in range(m)])\n",
    "    print (\"Addition and multiplication table modulo %s\"%m)\n",
    "    show(graphics_array( (plot(Add, frame=True, xmin=-0.5, ymin=-0.5, xmax=m-0.5, ymax=m-0.5, cmap=cmap),\\\n",
    "\t\t\t\t\t\t  plot(Mult,frame=True, xmin=-0.5, ymin=-0.5, xmax=m-0.5, ymax=m-0.5,cmap=cmap))))"
   ]
  },
  {
   "cell_type": "markdown",
   "id": "e5d866b4",
   "metadata": {},
   "source": [
    "Look at this for a while.  Make $m$ close to 200 slowly and see how the outputs of the two arithmetic operations change.\n",
    "\n",
    "Answer the following questions (which refer to the default colour map) to be sure you understand the table:\n",
    "\n",
    "- Question: Why is the top row and leftmost column of the multiplication table always black?\n",
    "- Question: Why is there an anti-diagonal block line in the addition table (the left-most table)?\n",
    "- Question: Why are the two halves of each table (the two pictures) symmetric about the diagonal?\n",
    "\n",
    "You can change the colour map if you want to.\n",
    "\n",
    "#### YouTry\n",
    "\n",
    "You should be able to understand a bit of what is happening here.  See that there are two list comprehensions in there.  Take the line `matrix(m,m,[(i+j)%m for i in range(m) for j in range(m)])`.  The list comprehension part is `[(i+j)%m for i in range(m) for j in range(m)]`.  Let's pull it out and have a look at it.  We have set the default modulo `m` to `4` but you could change it if you want to:"
   ]
  },
  {
   "cell_type": "code",
   "execution_count": 16,
   "id": "f5223a26",
   "metadata": {
    "scrolled": true
   },
   "outputs": [
    {
     "data": {
      "text/plain": [
       "[0, 1, 2, 3, 1, 2, 3, 0, 2, 3, 0, 1, 3, 0, 1, 2]"
      ]
     },
     "execution_count": 16,
     "metadata": {},
     "output_type": "execute_result"
    }
   ],
   "source": [
    "m = 4\n",
    "listFormAdd = [(i+j)%m for i in range(m) for j in range(m)]\n",
    "listFormAdd"
   ]
  },
  {
   "cell_type": "markdown",
   "id": "4fd17774",
   "metadata": {},
   "source": [
    "This list comprehension doing double duty:  remember that a list comprehension is like a short form for a for loop to create a list?  This one is like a short form for one for-loop nested within another for-loop.  \n",
    "\n",
    "We could re-create what is going on here by making the same list with two for-loops.  This one uses modulo `m = 4` again."
   ]
  },
  {
   "cell_type": "code",
   "execution_count": 17,
   "id": "10f91e60",
   "metadata": {
    "scrolled": true
   },
   "outputs": [
    {
     "data": {
      "text/plain": [
       "[0, 1, 2, 3, 1, 2, 3, 0, 2, 3, 0, 1, 3, 0, 1, 2]"
      ]
     },
     "execution_count": 17,
     "metadata": {},
     "output_type": "execute_result"
    }
   ],
   "source": [
    "m = 4\n",
    "listFormAddTheHardWay = []\n",
    "for i in range(m):\n",
    "    for j in range(m):\n",
    "        listFormAddTheHardWay.append((i+j)%m)\n",
    "listFormAddTheHardWay"
   ]
  },
  {
   "cell_type": "markdown",
   "id": "f5bf72e9",
   "metadata": {},
   "source": [
    "Notice that the last statement in the list comprehension, `for j in range(m)`, is the inner loop in the nested for-loop.\n",
    "\n",
    "The next step that Stein's  interactive image is to make a `matrix` out of the `list`.   We won't be doing matrices in detail in this course (we decided to concentrate on `numpy.arrays` and multi-dimensional `numpy.ndarrays` with floating-point numbers for numerical computing instead), but if you are interested, this statement uses the `matrix` function to make a `matrix` out of the `list` named `listFormAdd`.  The dimensions of the matrix are given by the first two arguments to the `matrix` function: `(m, m,...)`. "
   ]
  },
  {
   "cell_type": "code",
   "execution_count": 18,
   "id": "7809308c",
   "metadata": {
    "scrolled": true
   },
   "outputs": [
    {
     "data": {
      "text/plain": [
       "[0 1 2 3]\n",
       "[1 2 3 0]\n",
       "[2 3 0 1]\n",
       "[3 0 1 2]"
      ]
     },
     "execution_count": 18,
     "metadata": {},
     "output_type": "execute_result"
    }
   ],
   "source": [
    "matrixForm = matrix(m,m, listFormAdd)\n",
    "matrixForm"
   ]
  },
  {
   "cell_type": "markdown",
   "id": "35591072",
   "metadata": {},
   "source": [
    "Optionally, you can find out more about matrices from the documentation."
   ]
  },
  {
   "cell_type": "code",
   "execution_count": 19,
   "id": "ae966dab",
   "metadata": {
    "scrolled": true
   },
   "outputs": [],
   "source": [
    "#uncomment and evaluate next line for doc\n",
    "#?matrix"
   ]
  },
  {
   "cell_type": "markdown",
   "id": "c5fceb68",
   "metadata": {},
   "source": [
    "#### YouTry\n",
    "Try recreating the matrix for multiplication, just as we have just recreated the one for addition."
   ]
  },
  {
   "cell_type": "code",
   "execution_count": 20,
   "id": "85733270",
   "metadata": {
    "scrolled": true
   },
   "outputs": [],
   "source": [
    "m = 4\n",
    "listFormMultiply = [] # make the list non-empty!"
   ]
  },
  {
   "cell_type": "code",
   "execution_count": 21,
   "id": "831e3984",
   "metadata": {
    "scrolled": true
   },
   "outputs": [
    {
     "data": {
      "text/plain": [
       "[]"
      ]
     },
     "execution_count": 21,
     "metadata": {},
     "output_type": "execute_result"
    }
   ],
   "source": [
    "listFormMultiply"
   ]
  },
  {
   "cell_type": "markdown",
   "id": "d5a61347",
   "metadata": {},
   "source": [
    "### Modular arithmetic in SageMath\n",
    "\n",
    "The simplest way to create a number modulo $m$ in Sage is to use the Mod(a,m) command.  We illustrate this below."
   ]
  },
  {
   "cell_type": "code",
   "execution_count": 22,
   "id": "a7be2efe",
   "metadata": {
    "scrolled": true
   },
   "outputs": [
    {
     "data": {
      "text/plain": [
       "8"
      ]
     },
     "execution_count": 22,
     "metadata": {},
     "output_type": "execute_result"
    }
   ],
   "source": [
    "Mod(8, 12)"
   ]
  },
  {
   "cell_type": "markdown",
   "id": "3ffe582d",
   "metadata": {},
   "source": [
    "Let's assign it to a variable so that we can explore it further:"
   ]
  },
  {
   "cell_type": "code",
   "execution_count": 23,
   "id": "65257ce9",
   "metadata": {
    "scrolled": true
   },
   "outputs": [
    {
     "data": {
      "text/plain": [
       "8"
      ]
     },
     "execution_count": 23,
     "metadata": {},
     "output_type": "execute_result"
    }
   ],
   "source": [
    "myModInt = Mod(8, 12)\n",
    "myModInt"
   ]
  },
  {
   "cell_type": "code",
   "execution_count": 24,
   "id": "682d7d4e",
   "metadata": {
    "scrolled": true
   },
   "outputs": [
    {
     "data": {
      "text/plain": [
       "<class 'sage.rings.finite_rings.integer_mod.IntegerMod_int'>"
      ]
     },
     "execution_count": 24,
     "metadata": {},
     "output_type": "execute_result"
    }
   ],
   "source": [
    "type(myModInt)"
   ]
  },
  {
   "cell_type": "code",
   "execution_count": 25,
   "id": "55c01b94",
   "metadata": {
    "scrolled": true
   },
   "outputs": [
    {
     "data": {
      "text/plain": [
       "Ring of integers modulo 12"
      ]
     },
     "execution_count": 25,
     "metadata": {},
     "output_type": "execute_result"
    }
   ],
   "source": [
    "parent(myModInt)"
   ]
  },
  {
   "cell_type": "markdown",
   "id": "b9408333",
   "metadata": {},
   "source": [
    "We will compare myModInt to a \"normal\" SageMath integer:"
   ]
  },
  {
   "cell_type": "code",
   "execution_count": 26,
   "id": "95549554",
   "metadata": {
    "scrolled": true
   },
   "outputs": [
    {
     "data": {
      "text/plain": [
       "8"
      ]
     },
     "execution_count": 26,
     "metadata": {},
     "output_type": "execute_result"
    }
   ],
   "source": [
    "myInt = 8\n",
    "myInt"
   ]
  },
  {
   "cell_type": "code",
   "execution_count": 27,
   "id": "ecd5acd3",
   "metadata": {
    "scrolled": true
   },
   "outputs": [
    {
     "data": {
      "text/plain": [
       "<class 'sage.rings.integer.Integer'>"
      ]
     },
     "execution_count": 27,
     "metadata": {},
     "output_type": "execute_result"
    }
   ],
   "source": [
    "type(myInt)"
   ]
  },
  {
   "cell_type": "code",
   "execution_count": 28,
   "id": "dbc31f93",
   "metadata": {
    "scrolled": true
   },
   "outputs": [
    {
     "data": {
      "text/plain": [
       "Integer Ring"
      ]
     },
     "execution_count": 28,
     "metadata": {},
     "output_type": "execute_result"
    }
   ],
   "source": [
    "parent(myInt) # ZZ"
   ]
  },
  {
   "cell_type": "markdown",
   "id": "8883e675",
   "metadata": {},
   "source": [
    "We can see that `myModInt` and `myInt` are different types, but what does this mean?  How do they behave? \n",
    "\n",
    "Try addition:"
   ]
  },
  {
   "cell_type": "code",
   "execution_count": 29,
   "id": "f19911e3",
   "metadata": {
    "scrolled": true
   },
   "outputs": [
    {
     "data": {
      "text/plain": [
       "2"
      ]
     },
     "execution_count": 29,
     "metadata": {},
     "output_type": "execute_result"
    }
   ],
   "source": [
    "myModInt + 6"
   ]
  },
  {
   "cell_type": "code",
   "execution_count": 30,
   "id": "5e8caf1d",
   "metadata": {
    "scrolled": true
   },
   "outputs": [
    {
     "data": {
      "text/plain": [
       "14"
      ]
     },
     "execution_count": 30,
     "metadata": {},
     "output_type": "execute_result"
    }
   ],
   "source": [
    "myInt + 6"
   ]
  },
  {
   "cell_type": "markdown",
   "id": "8918c5b4",
   "metadata": {},
   "source": [
    "Was this what you already expected?\n",
    "\n",
    "What about multiplication?"
   ]
  },
  {
   "cell_type": "code",
   "execution_count": 31,
   "id": "6d9a2d5f",
   "metadata": {
    "scrolled": true
   },
   "outputs": [
    {
     "data": {
      "text/plain": [
       "0"
      ]
     },
     "execution_count": 31,
     "metadata": {},
     "output_type": "execute_result"
    }
   ],
   "source": [
    "myModInt * 6"
   ]
  },
  {
   "cell_type": "code",
   "execution_count": 32,
   "id": "5c5c653b",
   "metadata": {
    "scrolled": true
   },
   "outputs": [
    {
     "data": {
      "text/plain": [
       "48"
      ]
     },
     "execution_count": 32,
     "metadata": {},
     "output_type": "execute_result"
    }
   ],
   "source": [
    "myInt * 6"
   ]
  },
  {
   "cell_type": "markdown",
   "id": "0384d795",
   "metadata": {},
   "source": [
    "What's going on here?  As we said above, arithmetic modulo mm is like usual arithmetic, except every time you add or multiply, you also divide by mm and return the remainder.  8 x 6 is 48, and the remainder of 48 divided by 12 (12 is our modulo) is 0. \n",
    "\n",
    "What about this one? What's happening here? "
   ]
  },
  {
   "cell_type": "code",
   "execution_count": 33,
   "id": "17c6a03f",
   "metadata": {
    "scrolled": true
   },
   "outputs": [
    {
     "data": {
      "text/plain": [
       "1984"
      ]
     },
     "execution_count": 33,
     "metadata": {},
     "output_type": "execute_result"
    }
   ],
   "source": [
    "Mod(-36,2020) # Benny was born in the year"
   ]
  },
  {
   "cell_type": "code",
   "execution_count": 34,
   "id": "17c30b89",
   "metadata": {
    "scrolled": true
   },
   "outputs": [
    {
     "data": {
      "text/plain": [
       "11"
      ]
     },
     "execution_count": 34,
     "metadata": {},
     "output_type": "execute_result"
    }
   ],
   "source": [
    "Mod(-1,12)  # what's an hour before mid-night"
   ]
  },
  {
   "cell_type": "markdown",
   "id": "f281f4e5",
   "metadata": {},
   "source": [
    "### YouTry\n",
    "Can you create the number giving your year of birth (±1 year) in a similar way. For example, if you are 19 years old now then find the number -19 modulo 2018.\n",
    "\n"
   ]
  },
  {
   "cell_type": "code",
   "execution_count": 0,
   "id": "2cca123d",
   "metadata": {
    "scrolled": true
   },
   "outputs": [],
   "source": []
  },
  {
   "cell_type": "markdown",
   "id": "c80dfc48",
   "metadata": {},
   "source": [
    "Let us assign 10 modulo 12 to a variable named `now`:"
   ]
  },
  {
   "cell_type": "code",
   "execution_count": 35,
   "id": "1fec9618",
   "metadata": {
    "scrolled": true
   },
   "outputs": [
    {
     "data": {
      "text/plain": [
       "10"
      ]
     },
     "execution_count": 35,
     "metadata": {},
     "output_type": "execute_result"
    }
   ],
   "source": [
    "now = Mod(10, 12)\n",
    "now"
   ]
  },
  {
   "cell_type": "markdown",
   "id": "86928b85",
   "metadata": {},
   "source": [
    "<img src=\"images/Week6NowEquals10.png\" width=200>"
   ]
  },
  {
   "cell_type": "markdown",
   "id": "2186120a",
   "metadata": {},
   "source": [
    "#### YouTrys\n",
    "\n",
    "Add -1 to `now`: <img src=\"images/Week6NowEquals9.png\" width=200>\n",
    "\n",
    "Put in the expression to do this in SageMath into the cell below:"
   ]
  },
  {
   "cell_type": "code",
   "execution_count": 0,
   "id": "94186ec0",
   "metadata": {
    "scrolled": true
   },
   "outputs": [],
   "source": []
  },
  {
   "cell_type": "markdown",
   "id": "505e3ae2",
   "metadata": {},
   "source": [
    "\n",
    "And subtract 13 from the previous expression.  <img src=\"images/Week6NowEquals8.png\" width=250>\n",
    "\n",
    "Put in the expression to do this in SageMath into the cell below:"
   ]
  },
  {
   "cell_type": "code",
   "execution_count": 0,
   "id": "66f4c39b",
   "metadata": {
    "scrolled": true
   },
   "outputs": [],
   "source": []
  },
  {
   "cell_type": "markdown",
   "id": "bca3dc13",
   "metadata": {},
   "source": [
    "Also try adding 14 to the previous expression -- the new postition is not shown on this clock but you should be able to see what it should be.  \n",
    "\n",
    "\n",
    "<img src=\"images/Week6NowWas8.png\" width=200>\n",
    "\n",
    "Put in the expression to do this in SageMath into the cell below:\n",
    "    "
   ]
  },
  {
   "cell_type": "code",
   "execution_count": 0,
   "id": "ead65b72",
   "metadata": {
    "scrolled": true
   },
   "outputs": [],
   "source": []
  },
  {
   "cell_type": "markdown",
   "id": "1d998c79",
   "metadata": {},
   "source": [
    "And multiplying 2 by `now` (or `now` by 2)"
   ]
  },
  {
   "cell_type": "code",
   "execution_count": 0,
   "id": "427ea6d0",
   "metadata": {
    "scrolled": true
   },
   "outputs": [],
   "source": []
  },
  {
   "cell_type": "markdown",
   "id": "45df1769",
   "metadata": {},
   "source": [
    "Try making and using some modular integers of your own. Make sure that you can predict the results of simple addition and multiplication operations on them: this will confirm that you understand what's happening. "
   ]
  },
  {
   "cell_type": "code",
   "execution_count": 0,
   "id": "88550994",
   "metadata": {
    "scrolled": true
   },
   "outputs": [],
   "source": []
  },
  {
   "cell_type": "code",
   "execution_count": 0,
   "id": "7d97058b",
   "metadata": {
    "scrolled": true
   },
   "outputs": [],
   "source": []
  },
  {
   "cell_type": "markdown",
   "id": "69c95ecf",
   "metadata": {},
   "source": [
    "#### YouTry Later!\n",
    "What happens if you try arithmetic with two modular integers?  Does it matter if the moduli of both operands a and b in say a+b are the same if a and b are both modular integers?  Does this make sense to you?"
   ]
  },
  {
   "cell_type": "code",
   "execution_count": 0,
   "id": "3bc1c9f6",
   "metadata": {
    "scrolled": true
   },
   "outputs": [],
   "source": []
  },
  {
   "cell_type": "code",
   "execution_count": 0,
   "id": "87d8d47d",
   "metadata": {
    "scrolled": true
   },
   "outputs": [],
   "source": []
  },
  {
   "cell_type": "code",
   "execution_count": 0,
   "id": "671bc7ad",
   "metadata": {
    "scrolled": true
   },
   "outputs": [],
   "source": []
  },
  {
   "cell_type": "markdown",
   "id": "175e2dd7",
   "metadata": {},
   "source": [
    "(end of YouTrys)\n",
    "\n",
    "---\n",
    "\n",
    "---"
   ]
  },
  {
   "cell_type": "code",
   "execution_count": null,
   "id": "efb8073e",
   "metadata": {},
   "outputs": [],
   "source": []
  }
 ],
 "metadata": {
  "kernelspec": {
   "display_name": "SageMath 9.4",
   "language": "sage",
   "name": "sagemath"
  },
  "language_info": {
   "codemirror_mode": {
    "name": "ipython",
    "version": 3
   },
   "file_extension": ".py",
   "mimetype": "text/x-python",
   "name": "python",
   "nbconvert_exporter": "python",
   "pygments_lexer": "ipython3",
   "version": "3.8.12"
  }
 },
 "nbformat": 4,
 "nbformat_minor": 5
}
