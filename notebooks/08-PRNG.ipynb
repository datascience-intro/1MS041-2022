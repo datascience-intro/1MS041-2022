{
 "cells": [
  {
   "cell_type": "markdown",
   "metadata": {
    "deletable": false
   },
   "source": [
    "# [Introduction to Data Science](http://datascience-intro.github.io/1MS041-2022/)    \n",
    "## 1MS041, 2022 \n",
    "&copy;2022 Raazesh Sainudiin, Benny Avelin. [Attribution 4.0 International     (CC BY 4.0)](https://creativecommons.org/licenses/by/4.0/)"
   ]
  },
  {
   "cell_type": "markdown",
   "metadata": {},
   "source": [
    "# Linear Congruential Generators, and Pseudo-Random Numbers"
   ]
  },
  {
   "cell_type": "markdown",
   "metadata": {},
   "source": [
    "## What's this all about?\n",
    "\n",
    "### Question: \n",
    "\n",
    "How can we produce realisations from Uniform$(0,1)$, the **fundamental random variable**?\n",
    "\n",
    "i.e., how can we produce samples $(x_1, x_2, \\ldots, x_n)$ from $X_1, X_2, \\ldots, X_n$ $\\overset{IID}{\\thicksim}$ Uniform$(0,1)$?\n",
    "\n",
    "What is python doing when we ask for `random()`?"
   ]
  },
  {
   "cell_type": "code",
   "execution_count": null,
   "metadata": {
    "scrolled": true
   },
   "outputs": [],
   "source": [
    "from random import random as rnd\n",
    "rnd()"
   ]
  },
  {
   "cell_type": "markdown",
   "metadata": {},
   "source": [
    "### Answer:\n",
    "\n",
    "Modular arithmetic and number theory gives us pseudo-random number generators.\n",
    "\n",
    " \n",
    "\n",
    "### Question:\n",
    "\n",
    "What can we do with samples from a Uniform$(0,1)$ RV?  Why bother?\n",
    "\n",
    "### Answer:\n",
    "\n",
    "We can use them to sample or simulate from other, more complex, random variables.  These simulations can be used to understand real-world phenomenon such as:\n",
    "\n",
    "- modelling traffic queues on land, air or sea for supply chain management\n",
    "- estimate missing data in a statistical survey to better manage or administer\n",
    "- helping a hospital to manage critical care for pre-term babies\n",
    "- helping [NZ's Department of Conservation](https://www.doc.govt.nz/) to minimise the extinction probability of various marine organisms\n",
    "- helping the [Swedish Agency for Marine and Water Management](https://www.havochvatten.se/en/start.html) towards [sustainable consumption of its red-listed](https://en.wikipedia.org/wiki/Eel#Sustainable_consumption) [Eel](https://en.wikipedia.org/wiki/Brantevik_Eel) populations\n",
    "- help the Government find if certain fishing boats are illegally under-reporting their catches from its nation's waters\n",
    "- find cheaper air tickets for a vacation\n",
    "- make money in the stock market\n",
    "- etc., etc.\n",
    "- various physical systems can be modeled. See http://en.wikipedia.org/wiki/Monte_Carlo_method for a bigger picture.\n",
    "\n",
    "See how the modern history of *Monte Carlo Methods* starts in Los Alamos!"
   ]
  },
  {
   "cell_type": "code",
   "execution_count": null,
   "metadata": {
    "scrolled": true
   },
   "outputs": [],
   "source": [
    "def showURL(url, ht=500):\n",
    "    \"\"\"Return an IFrame of the url to show in notebook with height ht\"\"\"\n",
    "    from IPython.display import IFrame\n",
    "    return IFrame(url, width='95%', height=ht)\n",
    "showURL('https://en.wikipedia.org/wiki/Monte_Carlo_method',600)"
   ]
  },
  {
   "cell_type": "markdown",
   "metadata": {},
   "source": [
    "**Remark:** When **mathematical models become too complicated** to explain a complex phenomenon of interest (eg. traffic or supply-chain management, predictive maintenance of an expensive component in a national grid/system of power plant, etc.), you have little choice but to resort to **modular arithmetic based simulations with pseudo-random numbers**. \n",
    "\n",
    "[John von Neumann](https://en.wikipedia.org/wiki/John_von_Neumann) invented such a pseudo-random number generator called the [middle-square method](https://en.wikipedia.org/wiki/Middle-square_method#History) for solving complex problems in the [Manhattan Project](https://en.wikipedia.org/wiki/Manhattan_Project). \n",
    "\n",
    "![](https://upload.wikimedia.org/wikipedia/commons/thumb/5/5e/JohnvonNeumann-LosAlamos.gif/330px-JohnvonNeumann-LosAlamos.gif)\n",
    "![](https://upload.wikimedia.org/wikipedia/commons/thumb/8/8d/Trinity_shot_color.jpg/330px-Trinity_shot_color.jpg)\n",
    "\n",
    "Finally, statistical inference methods you are about to see can be combined with simulation to conduct **simulation-intensive statistical inference**! These are called Monte Carlo methods and the naming has an interesting folk-tale from Los Alamos."
   ]
  },
  {
   "cell_type": "markdown",
   "metadata": {},
   "source": [
    "## Linear Congruential Generators\n",
    "\n",
    "A linear congruential generator (LCG) is a simple *pseudo-random number generator (PRNG)* - a simple way of imitating samples or realizations from the Uniform$(0,1)$.  \n",
    "\n",
    "\"Pseudo-random\" means that the numbers are not really random [From Ancient Greek pseudo means “false, lying”)].\n",
    "\n",
    "We will look at what we mean by that as we find out about linear congruential generators. \n",
    "\n",
    "The theory behind LCGs is easy to understand, and they are easily implemented and fast.\n",
    "\n",
    "To make a LCG we need:\n",
    "\n",
    "- a modulus $m$ ($m > 0$)\n",
    "- an integer multiplier $a$ ($0 \\le a < m$)\n",
    "- an integer increment $c$ ($0 \\le c < m$)\n",
    "- an integer seed $x_0$ ($0 \\le x_0 < m$)\n",
    "- an integer sequence length $n$\n",
    "\n",
    "Using these inputs, the LCG generates numbers $x_1, x_2, \\ldots x_{n-1} $ where $x_{i+1}$ is calculated from $x_i$ as defined by the following recurrence relation:\n",
    "\n",
    "$$x_{i+1} \\gets mod \\left(a x_i + c , m \\right)$$\n",
    "\n",
    "In the above expression $\\gets$ denotes \"gets\" as in variable assignment.\n",
    "\n",
    "$x_0,x_1,\\ldots,x_{n-1}$ is the sequence of pseudo-random numbers called the linear congruential sequence.\n",
    "\n",
    "\n",
    "\n",
    "We can define a function parameterised by $(m,a,c,x_0,n)$ to give us a linear congruential sequence in the form of a list. \n",
    "\n",
    "(Remember about function parameters?  The function **parameters** here are `m`, `a`, `c`, `x0`, and `n`.  Note that the **return value** of the function is a list.  "
   ]
  },
  {
   "cell_type": "markdown",
   "metadata": {},
   "source": [
    "### Implementing the LCG\n",
    "\n",
    "Let's see how we can define a function for our LCG next.'"
   ]
  },
  {
   "cell_type": "code",
   "execution_count": null,
   "metadata": {
    "scrolled": true
   },
   "outputs": [],
   "source": [
    "def linConGen(m, a, c, x0, n):\n",
    "    '''A linear congruential sequence generator.\n",
    "    \n",
    "    Param m is the integer modulus to use in the generator.\n",
    "    Param a is the integer multiplier.\n",
    "    Param c is the integer increment.\n",
    "    Param x0 is the integer seed.\n",
    "    Param n is the integer number of desired pseudo-random numbers.\n",
    "    \n",
    "    Returns a list of n pseudo-random integer modulo m numbers.'''\n",
    "    \n",
    "    x = x0 # the seed\n",
    "    retValue = [x % m]  # start the list with x=x0\n",
    "    for i in range(2, n+1, 1):\n",
    "        x = (a * x + c) % m # the generator, using modular arithmetic\n",
    "        retValue.append(x) # append the new x to the list\n",
    "    return retValue"
   ]
  },
  {
   "cell_type": "markdown",
   "metadata": {},
   "source": [
    "You know enough Python to understand what every line in the above function `linConGen` is doing!"
   ]
  },
  {
   "cell_type": "markdown",
   "metadata": {},
   "source": [
    "The function is merely implementing the pseudocode or algorithm of the linear congruential generator using a for-loop and modular arithmetic:  note that the generator produces integers modulo $m$.\n",
    "\n",
    "### Linear Congruential Generators:  the Good, the Bad, and the Ugly\n",
    "\n",
    "Are all linear congruential generators as good as each other?  What makes a good LCG?\n",
    "\n",
    "One desirable property of a LCG is to have the longest possible period.   \n",
    "\n",
    "The **period** is the length of sequence we can get before we get a repeat.  The longest possible period a LCG can have is $m$.  Lets look at an example.  "
   ]
  },
  {
   "cell_type": "code",
   "execution_count": null,
   "metadata": {
    "scrolled": true
   },
   "outputs": [],
   "source": [
    "# first assign values to some variables to pass as arguments to the function\n",
    "m  = 17  # set modulus to 17\n",
    "a  = 2   # set multiplier to 2\n",
    "c  = 7   # set increment to 7\n",
    "x0 = 1   # set seed to 1\n",
    "n  = 18  # set length of sequence to 18 = 1 + maximal period \n",
    "L1 = linConGen(m, a, c, x0, n) # use our linConGren function to make the sequence\n",
    "L1                    # this sequence repeats itself with period 8"
   ]
  },
  {
   "cell_type": "markdown",
   "metadata": {},
   "source": [
    "You should be able to see the repeating pattern `1, 9, 8, 6, 2, 11, 12, 14`.  If you can't you can see that the sequence actually contains 8 unique numbers by making a set out of it:"
   ]
  },
  {
   "cell_type": "code",
   "execution_count": null,
   "metadata": {
    "scrolled": true
   },
   "outputs": [],
   "source": [
    "set(L1)"
   ]
  },
  {
   "cell_type": "markdown",
   "metadata": {},
   "source": [
    "Changing the seed $x_0$ will, at best, make the sequence repeat itself over other numbers but with the same period:"
   ]
  },
  {
   "cell_type": "code",
   "execution_count": null,
   "metadata": {
    "scrolled": true
   },
   "outputs": [],
   "source": [
    "x0 = 3             # leave m, a, c as it is but just change the seed from 1 to 3 here\n",
    "L2 = linConGen(m, a, c, x0, n)\n",
    "L2                 # changing the seed makes this sequence repeat itself over other numbers but also with period 8"
   ]
  },
  {
   "cell_type": "code",
   "execution_count": null,
   "metadata": {
    "scrolled": true
   },
   "outputs": [],
   "source": [
    "set(L2)"
   ]
  },
  {
   "cell_type": "markdown",
   "metadata": {},
   "source": [
    "At worst, a different `seed` specified by `x0` might make the sequence get stuck immediately:"
   ]
  },
  {
   "cell_type": "code",
   "execution_count": null,
   "metadata": {
    "scrolled": true
   },
   "outputs": [],
   "source": [
    "x0 = 10            # leave m, a, c as it is but just change the seed to 10\n",
    "L3 = linConGen(m, a, c, x0, n)\n",
    "L3"
   ]
  },
  {
   "cell_type": "code",
   "execution_count": null,
   "metadata": {
    "scrolled": true
   },
   "outputs": [],
   "source": [
    "set(L3)"
   ]
  },
  {
   "cell_type": "markdown",
   "metadata": {},
   "source": [
    "An LCG is just a discrete determinstic dynamical system and each seed acts as the initial condition with different behaviours. The behaviour above can be seen as a *fixed point* at 10 for this LCG initialized at 10."
   ]
  },
  {
   "cell_type": "code",
   "execution_count": null,
   "metadata": {
    "scrolled": true
   },
   "outputs": [],
   "source": [
    "set(L3).union(set(L2)).union(set(L1))"
   ]
  },
  {
   "cell_type": "markdown",
   "metadata": {},
   "source": [
    "Thus, the three sequences with different initial conditions or seeds cover all the points in our **Ring of integers modulo 17**."
   ]
  },
  {
   "cell_type": "markdown",
   "metadata": {},
   "source": [
    "What about changing the multiplier $a$?"
   ]
  },
  {
   "cell_type": "code",
   "execution_count": null,
   "metadata": {
    "scrolled": true
   },
   "outputs": [],
   "source": [
    "m  = 17 # same as before\n",
    "a  = 3  # change the multiplier from 2 to 3 here\n",
    "c  = 7  # same as before\n",
    "x0 = 1  # set seed at 1 \n",
    "n  = 18 # set length of sequence to 18 = 1 + maximal period\n",
    "L4 = linConGen(m, a, c, x0, n)\n",
    "L4"
   ]
  },
  {
   "cell_type": "code",
   "execution_count": null,
   "metadata": {
    "scrolled": true
   },
   "outputs": [],
   "source": [
    "set(L4)"
   ]
  },
  {
   "cell_type": "code",
   "execution_count": null,
   "metadata": {
    "scrolled": true
   },
   "outputs": [],
   "source": [
    "x0 = 5  # just change the seed to 5\n",
    "linConGen(m, a, c, x0, n)"
   ]
  },
  {
   "cell_type": "markdown",
   "metadata": {},
   "source": [
    "We want an LCG with a **full period** of $m$ so that we can use it with any seed and not get stuck at fixed points or short periodic sequences. This is a minimal requirement for simulation purposes that we will employ such sequences for.  Is there anyway to know what makes a LCG with a full period?  \n",
    "\n",
    "It turns out that an LCG will have a full period if and only if:\n",
    "\n",
    "- $c$ and $m$ are relatively prime or coprime.  i.e. the **greatest common divisor (gcd)** of $c$ and $m$ is $1$; and\n",
    "- $a-1$ is divisible by all **prime factors** of $m$; and\n",
    "- $a-1$ is a multiple of 4 if $m$ is a multiple of 4.\n",
    "\n",
    "(Different conditions apply when $c=0$.  The Proposition and Proof for this are in Knuth, The Art of Computer Programming, vol. 2, section 3.3).\n",
    "\n",
    "Python has a function `gcd` which can calculate the greatest common divisor of two numbers:"
   ]
  },
  {
   "cell_type": "code",
   "execution_count": null,
   "metadata": {
    "scrolled": true
   },
   "outputs": [],
   "source": [
    "from math import gcd\n",
    "#?gcd"
   ]
  },
  {
   "cell_type": "code",
   "execution_count": null,
   "metadata": {
    "scrolled": true
   },
   "outputs": [],
   "source": [
    "gcd(7,17)"
   ]
  },
  {
   "cell_type": "markdown",
   "metadata": {},
   "source": [
    "Python can also help us to calculate **prime factors** with the `prime_factors` function:"
   ]
  },
  {
   "cell_type": "code",
   "execution_count": null,
   "metadata": {},
   "outputs": [],
   "source": [
    "from sympy.ntheory import primefactors as prime_factors"
   ]
  },
  {
   "cell_type": "code",
   "execution_count": null,
   "metadata": {
    "scrolled": true
   },
   "outputs": [],
   "source": [
    "prime_factors(m)"
   ]
  },
  {
   "cell_type": "code",
   "execution_count": null,
   "metadata": {
    "scrolled": true
   },
   "outputs": [],
   "source": [
    "prime_factors(7634887623876428376482746)"
   ]
  },
  {
   "cell_type": "markdown",
   "metadata": {},
   "source": [
    "$(m, a, c, x0, n) = (256, 137, 123, 13, 256)$ gives a linear congruential sequence with the longest possible period of 256.  Let us see how these parameters satisfy the above three requirements while those earlier with $m=17$, $a=2$, and $c=7$ do not."
   ]
  },
  {
   "cell_type": "code",
   "execution_count": null,
   "metadata": {
    "scrolled": true
   },
   "outputs": [],
   "source": [
    "(m,a,c,x0,n)=(256, 137, 123, 13, 256) # faster way to assign a bunch of parameters"
   ]
  },
  {
   "cell_type": "code",
   "execution_count": null,
   "metadata": {
    "scrolled": true
   },
   "outputs": [],
   "source": [
    "gcd(c,m)         # checking if the greatest common divisor of c and m is indeed 1"
   ]
  },
  {
   "cell_type": "code",
   "execution_count": null,
   "metadata": {
    "scrolled": true
   },
   "outputs": [],
   "source": [
    "prime_factors(m)   # it is easy to get a list of all the prime factors of m"
   ]
  },
  {
   "cell_type": "code",
   "execution_count": null,
   "metadata": {
    "scrolled": true
   },
   "outputs": [],
   "source": [
    "(a-1) % 2             # checking if a-1=136 is divisible by 2, the only prime factors of m"
   ]
  },
  {
   "cell_type": "code",
   "execution_count": null,
   "metadata": {
    "scrolled": true
   },
   "outputs": [],
   "source": [
    "[ (a-1)%x for x in prime_factors(m) ]  \n",
    "# a list comprehension check for an m with more prime factors"
   ]
  },
  {
   "cell_type": "code",
   "execution_count": null,
   "metadata": {
    "scrolled": true
   },
   "outputs": [],
   "source": [
    "m % 4         # m is a multiple of 4 check"
   ]
  },
  {
   "cell_type": "code",
   "execution_count": null,
   "metadata": {
    "scrolled": true
   },
   "outputs": [],
   "source": [
    "(a-1) % 4       # if m is a multiple of 4 then a-1 is also a multiple of 4"
   ]
  },
  {
   "cell_type": "code",
   "execution_count": null,
   "metadata": {
    "scrolled": true
   },
   "outputs": [],
   "source": [
    "(m, a, c, x0, n)  # therefore these parameter values satisfy all conditions to have maximum period length m"
   ]
  },
  {
   "cell_type": "markdown",
   "metadata": {},
   "source": [
    "Thus, the parameters $(m,  a,  c,  x_0,  n) = (256, 137, 123, 13, 256)$  do indeed satisfy the three conditions to guarantee the longest possible period of 256.  \n",
    "\n",
    "In contrast, for the LCG example earlier with $m=17$, $a=2$, and $c=7$, although $m$ and $c$ are relatively prime, i.e., $gcd(m,c)=1$, we have the violation that $a-1=2-1=1$ is not divisible by the only prime factor $17$ of $m=17$.  Thus, we cannot get a period of maximal length $17$ in that example."
   ]
  },
  {
   "cell_type": "code",
   "execution_count": null,
   "metadata": {
    "scrolled": true
   },
   "outputs": [],
   "source": [
    "[ (2-1)%x for x in prime_factors(17) ]"
   ]
  },
  {
   "cell_type": "markdown",
   "metadata": {},
   "source": [
    "Let us see if the parameters $(m, a, c, x_0, n) = (256, 137, 123, 13, 256)$  that satisfy the three conditions to guarantee the longest possible period of 256 do indeed produce such a sequence:"
   ]
  },
  {
   "cell_type": "code",
   "execution_count": null,
   "metadata": {
    "scrolled": true
   },
   "outputs": [],
   "source": [
    "(m,a,c,x0,n)=(256, 137, 123, 13, 256) # faster way to assign a bunch of parameters\n",
    "ourLcg = linConGen(m,a,c,x0,n)\n",
    "print(ourLcg)"
   ]
  },
  {
   "cell_type": "code",
   "execution_count": null,
   "metadata": {
    "scrolled": true
   },
   "outputs": [],
   "source": [
    "S = set(ourLcg)  # sort it in a set to see if it indeed has maximal period of 256\n",
    "print(S)"
   ]
  },
  {
   "cell_type": "code",
   "execution_count": null,
   "metadata": {},
   "outputs": [],
   "source": [
    "sample = linConGen(m,a,c,x0,256*10)\n",
    "from Utils import makeEDF\n",
    "from Utils import plotEDF\n",
    "plotEDF(makeEDF(sample))"
   ]
  },
  {
   "cell_type": "markdown",
   "metadata": {},
   "source": [
    "This looks pretty good, it seems to verify that it is indeed a pseudorandom sequence. Lets try to take this modulo $K$, where $M$ is divisible by $K$. For us, $M = 256$ so we can take for instance $K = 8$. Lets see what happens"
   ]
  },
  {
   "cell_type": "code",
   "execution_count": null,
   "metadata": {},
   "outputs": [],
   "source": [
    "from math import floor"
   ]
  },
  {
   "cell_type": "code",
   "execution_count": null,
   "metadata": {},
   "outputs": [],
   "source": [
    "sample_8 = [floor((s / (256))*8) for s in sample]\n",
    "plotEMF(makeEMF(sample_8))"
   ]
  },
  {
   "cell_type": "markdown",
   "metadata": {},
   "source": [
    "It still retains the pseudo-randomness, but what is the period of the sequence `sample_8`?"
   ]
  },
  {
   "cell_type": "code",
   "execution_count": null,
   "metadata": {},
   "outputs": [],
   "source": [
    "for period in range(2,300):\n",
    "    found = True\n",
    "    for i in range(period):\n",
    "        if (sample_8[i] != sample_8[i+period]):\n",
    "            found = False\n",
    "            break\n",
    "    if found == True:\n",
    "        print(period)\n",
    "        break"
   ]
  },
  {
   "cell_type": "code",
   "execution_count": null,
   "metadata": {},
   "outputs": [],
   "source": [
    "from matplotlib import pyplot as plt\n",
    "plt.scatter(sample_8[:-1],sample_8[1:],alpha=0.005)"
   ]
  },
  {
   "cell_type": "markdown",
   "metadata": {},
   "source": [
    "ourLcg is an example of a **good** LCG to some extent, but the plot above tells us that there is some issues. "
   ]
  },
  {
   "cell_type": "code",
   "execution_count": null,
   "metadata": {},
   "outputs": [],
   "source": [
    "from random import randint\n",
    "sample_8_python = [randint(0,7) for i in range(256*10)]\n",
    "plt.scatter(sample_8_python[:-1],sample_8_python[1:],alpha=0.005)"
   ]
  },
  {
   "cell_type": "markdown",
   "metadata": {},
   "source": [
    "The next example will demonstrate what can go wrong if our $m,a,c$ is not so good.\n",
    "\n",
    "Consider $m= 256$, $a = 136$, $c = 3$, $x_0 = 0$, $n = 15$. "
   ]
  },
  {
   "cell_type": "code",
   "execution_count": null,
   "metadata": {
    "scrolled": true
   },
   "outputs": [],
   "source": [
    "m,a,c,x0,n = 256, 136, 3, 0, 15\n",
    "gcd(m,c)"
   ]
  },
  {
   "cell_type": "code",
   "execution_count": null,
   "metadata": {
    "scrolled": true
   },
   "outputs": [],
   "source": [
    "prime_factors(m)"
   ]
  },
  {
   "cell_type": "markdown",
   "metadata": {},
   "source": [
    "But, since $a-1=$135 is not divisible by 2, the only prime factor of $m=$256, we get into the fixed point 91 no matter where we start from.  \n",
    "\n",
    "### YouTry \n",
    "\n",
    "See if changing the seed $x_0$ makes a difference?"
   ]
  },
  {
   "cell_type": "code",
   "execution_count": null,
   "metadata": {
    "scrolled": true
   },
   "outputs": [],
   "source": [
    "linConGen(m, a, c, x0, n)"
   ]
  },
  {
   "cell_type": "code",
   "execution_count": null,
   "metadata": {
    "scrolled": true
   },
   "outputs": [],
   "source": []
  },
  {
   "cell_type": "markdown",
   "metadata": {},
   "source": [
    "We can look at the linear congruential sequence generated by $(m,a,c,x_0,n)=(256,137,0,123,256)$ from Knuth's classic [The Art of Computer Programming, vol. 2, Sec. 3.3.4, Table 1, Line 5] and compare it with `ourLcg`."
   ]
  },
  {
   "cell_type": "code",
   "execution_count": null,
   "metadata": {
    "scrolled": true
   },
   "outputs": [],
   "source": [
    "m, a, c, x0, n = 256, 137, 0, 123, 256\n",
    "lcgKnuth334T1L5 = linConGen(m, a, c, x0, n)\n",
    "print(lcgKnuth334T1L5)"
   ]
  },
  {
   "cell_type": "code",
   "execution_count": null,
   "metadata": {
    "scrolled": true
   },
   "outputs": [],
   "source": [
    "print(set(lcgKnuth334T1L5))"
   ]
  },
  {
   "cell_type": "markdown",
   "metadata": {},
   "source": [
    "Note that although `ourLcg` has maximal period of 256,  `lcgKnuth334T1L5` has period of  32.  Let us look at them as  points.\n",
    "\n",
    "We can plot each number in the sequence, say `ourLcg`, against its index in the sequence -- i.e. plot the first number 13 against 0 as the tuple (0, 13), the second number against 1 as the tuple (1, 112), etc.   \n",
    "\n",
    "To do this, we need to make a list of the index values, which is simple using `range(256)` which as you know will give us a list of numbers from 0 to 255 going up in steps of 1.   Then we can `zip` this list with the sequence itself to make the `list` of the desired `tuples`."
   ]
  },
  {
   "cell_type": "markdown",
   "metadata": {},
   "source": [
    "Then we plot using `points` for `ourLcg` and for `lcgKnuth334T1L5`."
   ]
  },
  {
   "cell_type": "code",
   "execution_count": null,
   "metadata": {
    "scrolled": true
   },
   "outputs": [],
   "source": [
    "#?text"
   ]
  },
  {
   "cell_type": "code",
   "execution_count": null,
   "metadata": {},
   "outputs": [],
   "source": [
    "fig,ax = plt.subplots(nrows=1,ncols=2)\n",
    "\n",
    "ax[0].scatter(range(len(ourLcg)),ourLcg)\n",
    "ax[1].scatter(range(len(ourLcg)),lcgKnuth334T1L5)"
   ]
  },
  {
   "cell_type": "markdown",
   "metadata": {},
   "source": [
    "We can see that in section 3.3.4, Table 1, line 5 in The Art of Computer Programming, Knuth is giving an example of a particularly bad LCG.  \n",
    "\n",
    "When we introducted LCGs, we said that using an LCG was a simple way to imitate independent samples from the Uniform$(0, 1)$ RV, but clearly so far we have been generating sequences of integers.  How does that help?\n",
    "\n",
    "To get a simple pseudo-random Uniform$(0,1)$ generator, we scale the linear congruential sequence over [0, 1].  We can do this by dividing each element by the largest number in the sequence (256 in the case of `ourLcg`). \n",
    "\n",
    "**Important note:** The numbers in the list returned by our `linConGen` function are integers modulo $m$."
   ]
  },
  {
   "cell_type": "code",
   "execution_count": null,
   "metadata": {
    "scrolled": true
   },
   "outputs": [],
   "source": [
    "ourLcgScaled = [x/256 for x in ourLcg]\n",
    "print(ourLcgScaled)"
   ]
  },
  {
   "cell_type": "markdown",
   "metadata": {},
   "source": [
    "This is more like it!  We could have a look at this on a plot.  Again again want tuples (index, element in scaled sequence at index position), which we can get using `range(256)` (to get the indexes 0, .., 255) and `zip`:"
   ]
  },
  {
   "cell_type": "code",
   "execution_count": null,
   "metadata": {
    "scrolled": false
   },
   "outputs": [],
   "source": [
    "plt.scatter(range(len(ourLcgScaled)),ourLcgScaled)"
   ]
  },
  {
   "cell_type": "markdown",
   "metadata": {},
   "source": [
    "Now we have points on the real line.  We could use a histogram to look at their distribution.  If we are hoping that our LCG, once we have scaled the results,  is imitating the Uniform$(0,1)$, what kind of shape would we want our histogram to be? "
   ]
  },
  {
   "cell_type": "code",
   "execution_count": null,
   "metadata": {
    "scrolled": false
   },
   "outputs": [],
   "source": [
    "_=plt.hist(ourLcgScaled,bins=40)"
   ]
  },
  {
   "cell_type": "markdown",
   "metadata": {},
   "source": [
    "Is this roughly what you expected?\n",
    "\n",
    "We could repeat this for the Knuth bad LCG example:"
   ]
  },
  {
   "cell_type": "code",
   "execution_count": null,
   "metadata": {
    "scrolled": true
   },
   "outputs": [],
   "source": [
    "# YouTry"
   ]
  },
  {
   "cell_type": "markdown",
   "metadata": {},
   "source": [
    "And show it as a histogram.  Given the pattern above, what would you expect the histogram to look like?"
   ]
  },
  {
   "cell_type": "markdown",
   "metadata": {},
   "source": [
    "### Larger LCGs\n",
    "\n",
    "The above generators are cute but not useful for simulating Lotto draws with 40 outcomes.  Minimally, we need to increase the period length with a larger modulus $m$. \n",
    "\n",
    "But remember that the quality of the pseudo-random numbers obtained from a LCG is extremely sensitive to the choice of $m$, $a$, and $c$.  \n",
    "\n",
    "To illustrate that having a large $m$ alone is not enough we next look at **RANDU**, an infamous LCG which generates sequences with strong correlations between 3 consecutive points, which can been seen if we manipulate the sequence to make 3-dimensional tuples out of groups of 3 consecutive points.  \n",
    "\n",
    "In the cell below we make our scaled sequence in one step, using a list comprehension which contains the expression to generate the LCG and the scaling.   "
   ]
  },
  {
   "cell_type": "code",
   "execution_count": null,
   "metadata": {
    "scrolled": true
   },
   "outputs": [],
   "source": [
    "from Utils import showURL\n",
    "showURL('https://en.wikipedia.org/wiki/RANDU')"
   ]
  },
  {
   "cell_type": "code",
   "execution_count": null,
   "metadata": {
    "scrolled": true
   },
   "outputs": [],
   "source": [
    "m, a, c, x0, n = 2147483648, 65539, 0, 1, 5010\n",
    "RANDU = [x/m for x in linConGen(m, a, c, x0, n)]"
   ]
  },
  {
   "cell_type": "markdown",
   "metadata": {},
   "source": [
    "Have a look at the results as a histogram:"
   ]
  },
  {
   "cell_type": "code",
   "execution_count": null,
   "metadata": {
    "scrolled": false
   },
   "outputs": [],
   "source": [
    "_=plt.hist(RANDU,bins=40)"
   ]
  },
  {
   "cell_type": "markdown",
   "metadata": {},
   "source": [
    "Now we are going to use some of the array techniques we have learned about to resize the sequence from the RANDU LCG to an array with two columns"
   ]
  },
  {
   "cell_type": "code",
   "execution_count": null,
   "metadata": {
    "scrolled": true
   },
   "outputs": [],
   "source": [
    "import numpy as np\n",
    "m, a, c, x0, n = 2147483648, 65539, 0, 1, 5010\n",
    "randu = np.array(linConGen(m, a, c, x0, n))"
   ]
  },
  {
   "cell_type": "code",
   "execution_count": null,
   "metadata": {
    "scrolled": true
   },
   "outputs": [],
   "source": [
    "randu.shape"
   ]
  },
  {
   "cell_type": "code",
   "execution_count": null,
   "metadata": {
    "scrolled": true
   },
   "outputs": [],
   "source": [
    "randu.resize(5010//2, 2) # resize the randu array to 2 columns"
   ]
  },
  {
   "cell_type": "code",
   "execution_count": null,
   "metadata": {
    "scrolled": true
   },
   "outputs": [],
   "source": [
    "randu.shape"
   ]
  },
  {
   "cell_type": "code",
   "execution_count": null,
   "metadata": {},
   "outputs": [],
   "source": [
    "plt.scatter(randu[:,0],randu[:,1])"
   ]
  },
  {
   "cell_type": "markdown",
   "metadata": {},
   "source": [
    "Let us resize the LCG to an array with three columns.  The effect will be that if our original sequence was $x_0, x_1, x_2, x_3, \\ldots, x_{n-3}, x_{n-2}, x_{n-1}$, we will get a list of triplets, tuples of length three, $(x_0, x_1, x_2), (x_3, x_4, x_5), \\ldots, (x_{n-1-2}, x_{n-1-1}, x_{n-1})$.  Unlike the pairs in 2D which seem well-scattered and random, triplets from the RANDU LCG are not very random at all! They all lie on parallel planes in 3D. "
   ]
  },
  {
   "cell_type": "code",
   "execution_count": null,
   "metadata": {},
   "outputs": [],
   "source": [
    "import plotly.graph_objects as go\n",
    "import numpy as np\n",
    "\n",
    "randu.resize(1670, 3)\n",
    "\n",
    "fig = go.Figure(data=[go.Scatter3d(x=randu[:,0], y=randu[:,1], z=randu[:,2],\n",
    "                                   mode='markers',\n",
    "                                  marker=dict(size=2))])\n",
    "fig.show()"
   ]
  },
  {
   "cell_type": "markdown",
   "metadata": {},
   "source": [
    "You can alter your perspective on this image using the mouse.  From a particular perspective you can see that something has gone horribly wrong ... **RANDU is a really ugly LCG**. \n",
    "\n",
    "The above generators are of low quality for producing pseudo-random numbers to drive statistical simulations. We end with a positive note with a LCG that is in use in the Gnu Compiler Collection. It does not have obvious problems as in small periods or as high a correlation as RANDU. "
   ]
  },
  {
   "cell_type": "code",
   "execution_count": null,
   "metadata": {
    "scrolled": false
   },
   "outputs": [],
   "source": [
    "#jmol error JmolInitCheck is not defined\n",
    "glibCGCCLcg = np.array([x/2**32 for x in linConGen(2**32, 1103515245,12345,13,5010)])\n",
    "glibCGCCLcg.resize(1670, 3) # resize the randu array to 3 columns\n",
    "fig = go.Figure(data=[go.Scatter3d(x=glibCGCCLcg[:,0], y=glibCGCCLcg[:,1], z=glibCGCCLcg[:,2],\n",
    "                                   mode='markers',\n",
    "                                  marker=dict(size=2))])\n",
    "fig.show()"
   ]
  },
  {
   "cell_type": "code",
   "execution_count": null,
   "metadata": {
    "scrolled": true
   },
   "outputs": [],
   "source": [
    "glibCGCCLcg = np.array([x/(2**32) for x in linConGen(2**32, 1103515245,12345,13,5010)])\n",
    "_=plt.hist(glibCGCCLcg,bins=40)"
   ]
  },
  {
   "cell_type": "markdown",
   "metadata": {},
   "source": [
    "**Even good LCG are not suited for realistic statistical simulation problems**. \n",
    "\n",
    "This is because of the strong correlation between successive numbers in the sequence. For instance, if an LCG is used to choose points in an n-dimensional space, the points will lie on, at most, $m^{1/n}$ hyper-planes. There are various statistical tests that one can use to test the quality of a pseudo-random number generator. For example, the spectral test checks if the points are not on a few hyper-planes. Of course, the Sample Mean, Sample Variance, etc. should be as expected. Let us check those quickly:\n",
    "\n",
    "Recall that the population mean for a Uniform$(0,1)$ RV is $\\frac{1}{2}$ and the population variance is $\\frac{1}{12}$."
   ]
  },
  {
   "cell_type": "code",
   "execution_count": null,
   "metadata": {
    "scrolled": true
   },
   "outputs": [],
   "source": [
    "glibCGCCLcg.mean()  \n",
    "# check that the mean is close to the population mean of 0.5 for Uniform(0,1) RV"
   ]
  },
  {
   "cell_type": "code",
   "execution_count": null,
   "metadata": {
    "scrolled": true
   },
   "outputs": [],
   "source": [
    "glibCGCCLcg.var()   # how about the variance"
   ]
  },
  {
   "cell_type": "code",
   "execution_count": null,
   "metadata": {
    "scrolled": true
   },
   "outputs": [],
   "source": [
    "1/12.0"
   ]
  },
  {
   "cell_type": "markdown",
   "metadata": {},
   "source": [
    "To go into this topic of how good a pseudo-random number generaror is and what \"good\" means in many different mathematical senses (in detail) is clearly beyond the scope of this course. You should just remember that using computers to generate pseudo-random numbers is not a trivial problem and use care when employing them especially in higher dimensional or less smooth problems. The mathematics behind this has one of the most beautiful roots of the subject called number theory."
   ]
  },
  {
   "cell_type": "markdown",
   "metadata": {},
   "source": [
    "### More Sophisticated Pseudo-Random Number Generators\n",
    "\n",
    "We will use a pseudo-random number generator (PRNG) called the Mersenne Twister for simulation purposes in this course.  It is based on more sophisticated theory than that of LCG but the basic principles of recurrence relations are the same. \n",
    "\n",
    "(The Mersenne Twister is a variant of the recursive relation known as a twisted generalised feedback register.  See *Makato Matsumoto and Takuji Nishimura, \"Mersenne Twister: A 623-dimensionally equidistributed uniform pseudo-random number generator, ACM Transactions on Modelling and Computer Simulation, vol. 8, no. 1, Jan. 1998, pp. 3-20.* if you have ACM access or via links at [Mersenne Twister](https://en.wikipedia.org/wiki/Mersenne_twister).\n",
    "\n",
    "The Mersenne Twister has a period of $2^{19937}-1 \\approx 10^{6000}$ (which is essentially a Very Big Number) and is currently widely used by researchers interested in statistical simulation.  "
   ]
  },
  {
   "cell_type": "code",
   "execution_count": null,
   "metadata": {
    "scrolled": true
   },
   "outputs": [],
   "source": [
    "showURL(\"https://en.wikipedia.org/wiki/Mersenne_twister\",500) \n",
    "# scroll down to see the list of Software that use Mersenne Twister as the default PRNG, including SageMath"
   ]
  },
  {
   "cell_type": "code",
   "execution_count": null,
   "metadata": {
    "scrolled": true
   },
   "outputs": [],
   "source": [
    "import random\n",
    "?random"
   ]
  },
  {
   "cell_type": "code",
   "execution_count": null,
   "metadata": {
    "scrolled": true
   },
   "outputs": [],
   "source": [
    "%%sh\n",
    "## make sure the file exists, the path to the source File for you may be different, \n",
    "## copy-paste `File:` </.../pathToFile../pyrandom.py` from above output \n",
    "## `file` gives information about a file. The source file should be `ASCII text executable`\n",
    "file /Users/avelin/opt/miniconda3/envs/sage_new/lib/python3.9/random.py"
   ]
  },
  {
   "cell_type": "code",
   "execution_count": null,
   "metadata": {
    "scrolled": true
   },
   "outputs": [],
   "source": [
    "%%sh\n",
    "## you can just uncomment next line to `cat` or concatenate the source file to see \n",
    "## what is really under the hoood! Power of SageMath/Python!!\n",
    "# cat /Users/avelin/opt/miniconda3/envs/sage_new/lib/python3.9/random.py"
   ]
  }
 ],
 "metadata": {
  "kernelspec": {
   "display_name": "Python 3 (ipykernel)",
   "language": "python",
   "name": "python3"
  },
  "language_info": {
   "codemirror_mode": {
    "name": "ipython",
    "version": 3
   },
   "file_extension": ".py",
   "mimetype": "text/x-python",
   "name": "python",
   "nbconvert_exporter": "python",
   "pygments_lexer": "ipython3",
   "version": "3.9.13"
  },
  "lx_course_instance": "2022",
  "lx_course_name": "Introduction to Data Science",
  "lx_course_number": "1MS041"
 },
 "nbformat": 4,
 "nbformat_minor": 4
}
