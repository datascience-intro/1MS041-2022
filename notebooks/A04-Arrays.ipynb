{
 "cells": [
  {
   "cell_type": "markdown",
   "id": "3dfbc0bb",
   "metadata": {},
   "source": [
    "## Arrays\n",
    "\n",
    "### YouTrys!\n",
    "\n",
    "We have already talked about lists in SageMath/Python.   Lists are great but are also general:   lists are designed to be able to cope with any sort of data but that also means they don't have some of the specific functionality we might like to be able to analyse numerical data sets.   Arrays provide a way of representing and manipulating numerical data known an a matrix in maths lingo.  Matrices are particularly useful for data science.\n",
    "\n",
    "The lists we have been dealing with were one-dimensional.  An array and the matrix it represents in a computer can be multidimensional.   The most common forms of array that we will meet are one-dimensional and two-dimensional.   You can imagine a two-dimensional array as a grid, which has rows and columns.   Take for instance a 3-by-6 array (i.e., 3 rows and 6 columns).\n",
    "\n",
    "<table border=\"1\"><colgroup> <col width=\"20\" /> <col width=\"30\" /> <col width=\"20\" /> <col width=\"30\" /> <col width=\"20\" /> <col width=\"30\" /> </colgroup>\n",
    "<tbody>\n",
    "<tr>\n",
    "<td>0</td>\n",
    "<td>1</td>\n",
    "<td>2</td>\n",
    "<td>3</td>\n",
    "<td>4</td>\n",
    "<td>5</td>\n",
    "</tr>\n",
    "<tr>\n",
    "<td>6</td>\n",
    "<td>7</td>\n",
    "<td>8</td>\n",
    "<td>9</td>\n",
    "<td>10</td>\n",
    "<td>11</td>\n",
    "</tr>\n",
    "<tr>\n",
    "<td>12</td>\n",
    "<td>13</td>\n",
    "<td>14</td>\n",
    "<td>15</td>\n",
    "<td>16</td>\n",
    "<td>17</td>\n",
    "</tr>\n",
    "</tbody>\n",
    "</table>\n",
    "\n",
    "The array type is not available in the basic SageMath package, so we import a library package called numpy which includes arrays."
   ]
  },
  {
   "cell_type": "code",
   "execution_count": 96,
   "id": "5f4aa6eb",
   "metadata": {},
   "outputs": [
    {
     "name": "stdout",
     "output_type": "stream",
     "text": [
      "numpy is imported\n"
     ]
    }
   ],
   "source": [
    "import numpy as np\n",
    "\n",
    "# this is just to print\n",
    "print ('numpy is imported')"
   ]
  },
  {
   "cell_type": "markdown",
   "id": "ee0221db",
   "metadata": {},
   "source": [
    "Because the arrays are part of numpy, not the basic SageMath package, we don't just say `array`, but instead qualify `array` with the name of the module it is in.  So, we say `np.array` since we did `import numpy as np`.\n",
    "\n",
    "The cell below makes a two-dimensional 3-by-6 (3 rows by 6 columns) array by specifying the rows, and each element in each row, individually."
   ]
  },
  {
   "cell_type": "code",
   "execution_count": 98,
   "id": "a36d2dd9",
   "metadata": {},
   "outputs": [
    {
     "data": {
      "text/plain": [
       "array([[ 0,  1,  2,  3,  4,  5],\n",
       "       [ 6,  7,  8,  9, 10, 11],\n",
       "       [12, 13, 14, 15, 16, 17]])"
      ]
     },
     "execution_count": 98,
     "metadata": {},
     "output_type": "execute_result"
    }
   ],
   "source": [
    "# make an array the hard way\n",
    "array1 = np.array([[0,1,2,3,4,5],[6,7,8,9,10,11],[12,13,14,15,16,17]]) \n",
    "array1"
   ]
  },
  {
   "cell_type": "markdown",
   "id": "c1ca1688",
   "metadata": {},
   "source": [
    "We can use the `array`'s `shape` method to find out its **shape**. The shape method for a two-dimensional array returns an ordered pair in the form `(rows,columns)`.   In this case it tells us that we have 3 rows and 6 columns."
   ]
  },
  {
   "cell_type": "code",
   "execution_count": 99,
   "id": "fcd1e5a5",
   "metadata": {},
   "outputs": [
    {
     "data": {
      "text/plain": [
       "(3, 6)"
      ]
     },
     "execution_count": 99,
     "metadata": {},
     "output_type": "execute_result"
    }
   ],
   "source": [
    "array1.shape"
   ]
  },
  {
   "cell_type": "markdown",
   "id": "5b3f50ed",
   "metadata": {},
   "source": [
    "Another way to make an `array` is to start with a one-dimensional array and `resize` it to give the `shape` we want, as we do in the two cells below.\n",
    "\n",
    "We start by making a one-dimensional array using the `range` function we have met earlier."
   ]
  },
  {
   "cell_type": "code",
   "execution_count": 100,
   "id": "813db788",
   "metadata": {},
   "outputs": [
    {
     "data": {
      "text/plain": [
       "array([ 0,  1,  2,  3,  4,  5,  6,  7,  8,  9, 10, 11, 12, 13, 14, 15, 16,\n",
       "       17])"
      ]
     },
     "execution_count": 100,
     "metadata": {},
     "output_type": "execute_result"
    }
   ],
   "source": [
    "array2 = np.array([int(i) for i in range(18)])     # make an one dimensional array of Python int's\n",
    "array2"
   ]
  },
  {
   "cell_type": "markdown",
   "id": "561bf583",
   "metadata": {},
   "source": [
    "The array's `resize` allows us to specify a new shape for the same array. We are going to make a two-dimensional array with 3 rows and 6 columns.   Note that the shape you specify must be compatible with the number of elements in the array.   \n",
    "\n",
    "In this case, `array2` has 18 elements and we specify a new shape of 3 rows and 6 columns, which still makes 18 = 3*6 elements.   \n",
    "\n",
    "If the new shape you specify won't work with the array, you'll get an error message."
   ]
  },
  {
   "cell_type": "code",
   "execution_count": 101,
   "id": "6eddfa5e",
   "metadata": {},
   "outputs": [
    {
     "data": {
      "text/plain": [
       "array([[ 0,  1,  2,  3,  4,  5],\n",
       "       [ 6,  7,  8,  9, 10, 11],\n",
       "       [12, 13, 14, 15, 16, 17]])"
      ]
     },
     "execution_count": 101,
     "metadata": {},
     "output_type": "execute_result"
    }
   ],
   "source": [
    "array2.resize(3,6)      # use the array's resize method to change the shape of the array 18=3*6\n",
    "array2"
   ]
  },
  {
   "cell_type": "markdown",
   "id": "6599caa7",
   "metadata": {},
   "source": [
    "If you check the type for `array2`, you might be surprised to find that it is a `numpy.ndarray`.   What happened to `numpy.array`?   The array we are using is the NumPy N-dimensional array, or `numpy.ndarray`."
   ]
  },
  {
   "cell_type": "code",
   "execution_count": 102,
   "id": "da4587db",
   "metadata": {},
   "outputs": [
    {
     "data": {
      "text/plain": [
       "<class 'numpy.ndarray'>"
      ]
     },
     "execution_count": 102,
     "metadata": {},
     "output_type": "execute_result"
    }
   ],
   "source": [
    "type(array2)"
   ]
  },
  {
   "cell_type": "markdown",
   "id": "3f1156cf",
   "metadata": {},
   "source": [
    "Tensors and general multidimensional arrays are possible via `resize` method."
   ]
  },
  {
   "cell_type": "code",
   "execution_count": 103,
   "id": "b9d90d1a",
   "metadata": {},
   "outputs": [
    {
     "data": {
      "text/plain": [
       "array([[[ 0,  1,  2],\n",
       "        [ 3,  4,  5]],\n",
       "\n",
       "       [[ 6,  7,  8],\n",
       "        [ 9, 10, 11]],\n",
       "\n",
       "       [[12, 13, 14],\n",
       "        [15, 16, 17]]])"
      ]
     },
     "execution_count": 103,
     "metadata": {},
     "output_type": "execute_result"
    }
   ],
   "source": [
    "array2.resize(3,2,3)      # use the array's resize method to change the shape of the array 18=3*2*3\n",
    "array2"
   ]
  },
  {
   "cell_type": "markdown",
   "id": "7a947f32",
   "metadata": {},
   "source": [
    "The `range` function will only give us ranges of integers.   The numpy module includes a more flexible function `arange` (that's `arange` with one `r` -- think of it as something like a-for-array-range -- not 'arrange' with two r's).   The `arange` function takes parameters specifying the `start_argument`, `stop_argument` and `step_argument` values (similar to `range`), but is not restricted to integers and returns a one-dimensional array rather than a list.\n",
    "\n",
    "Here we use `arange` to make an array of numbers from `0.0` (`start_argument`) going up in steps of `0.1` (`step_argument`) to `0.18` - `0.1` and just as with range, the last number we get in the array is `stop_argument - step_argument` = `0.18` - `0.01` = `0.17`."
   ]
  },
  {
   "cell_type": "code",
   "execution_count": 104,
   "id": "0305c87f",
   "metadata": {},
   "outputs": [
    {
     "data": {
      "text/plain": [
       "array([0.  , 0.01, 0.02, 0.03, 0.04, 0.05, 0.06, 0.07, 0.08, 0.09, 0.1 ,\n",
       "       0.11, 0.12, 0.13, 0.14, 0.15, 0.16, 0.17])"
      ]
     },
     "execution_count": 104,
     "metadata": {},
     "output_type": "execute_result"
    }
   ],
   "source": [
    "array3 = np.arange(0.0,0.18,0.01)   # the pylab.arange(start, stop, step)\n",
    "array3"
   ]
  },
  {
   "cell_type": "code",
   "execution_count": 105,
   "id": "f3dd6f2e",
   "metadata": {},
   "outputs": [
    {
     "data": {
      "text/plain": [
       "<class 'numpy.ndarray'>"
      ]
     },
     "execution_count": 105,
     "metadata": {},
     "output_type": "execute_result"
    }
   ],
   "source": [
    "type(array3) # type is actually a numpy.ndarray"
   ]
  },
  {
   "cell_type": "code",
   "execution_count": 106,
   "id": "f2b33c44",
   "metadata": {},
   "outputs": [
    {
     "data": {
      "text/plain": [
       "(18,)"
      ]
     },
     "execution_count": 106,
     "metadata": {},
     "output_type": "execute_result"
    }
   ],
   "source": [
    "array3.shape # the shape is 1 dimensional"
   ]
  },
  {
   "cell_type": "markdown",
   "id": "5893f591",
   "metadata": {},
   "source": [
    "### Resize and Reshape\n",
    "\n",
    "The `resize` method resizes the array it is applied to.   \n",
    "\n",
    "The `reshape` method will leave the original array unchanged but return a new array, based on the original one, of the required new shape."
   ]
  },
  {
   "cell_type": "code",
   "execution_count": 107,
   "id": "3a3e7db0",
   "metadata": {},
   "outputs": [
    {
     "data": {
      "text/plain": [
       "array([[0.  , 0.01],\n",
       "       [0.02, 0.03],\n",
       "       [0.04, 0.05],\n",
       "       [0.06, 0.07],\n",
       "       [0.08, 0.09],\n",
       "       [0.1 , 0.11],\n",
       "       [0.12, 0.13],\n",
       "       [0.14, 0.15],\n",
       "       [0.16, 0.17]])"
      ]
     },
     "execution_count": 107,
     "metadata": {},
     "output_type": "execute_result"
    }
   ],
   "source": [
    "array3.resize(9,2)                     # which we can resize into a 9 by 2 array\n",
    "array3"
   ]
  },
  {
   "cell_type": "code",
   "execution_count": 108,
   "id": "a64dbc64",
   "metadata": {},
   "outputs": [
    {
     "data": {
      "text/plain": [
       "(9, 2)"
      ]
     },
     "execution_count": 108,
     "metadata": {},
     "output_type": "execute_result"
    }
   ],
   "source": [
    "array3.shape                            # try to see the shape of array3 now"
   ]
  },
  {
   "cell_type": "code",
   "execution_count": 109,
   "id": "132bbc11",
   "metadata": {},
   "outputs": [
    {
     "data": {
      "text/plain": [
       "array([[0.  , 0.01, 0.02],\n",
       "       [0.03, 0.04, 0.05],\n",
       "       [0.06, 0.07, 0.08],\n",
       "       [0.09, 0.1 , 0.11],\n",
       "       [0.12, 0.13, 0.14],\n",
       "       [0.15, 0.16, 0.17]])"
      ]
     },
     "execution_count": 109,
     "metadata": {},
     "output_type": "execute_result"
    }
   ],
   "source": [
    "array4 = array3.reshape(6,3)     # reshape makes a new array of the specified size 6 by 3\n",
    "array4"
   ]
  },
  {
   "cell_type": "code",
   "execution_count": 110,
   "id": "df471789",
   "metadata": {},
   "outputs": [
    {
     "data": {
      "text/plain": [
       "(6, 3)"
      ]
     },
     "execution_count": 110,
     "metadata": {},
     "output_type": "execute_result"
    }
   ],
   "source": [
    "array4.shape                            # try to see the shape of array4 now"
   ]
  },
  {
   "cell_type": "code",
   "execution_count": 111,
   "id": "dc236759",
   "metadata": {},
   "outputs": [
    {
     "data": {
      "text/plain": [
       "(9, 2)"
      ]
     },
     "execution_count": 111,
     "metadata": {},
     "output_type": "execute_result"
    }
   ],
   "source": [
    "array3.shape                            # try to see the shape of array3 now, i.e. after it was reshaped into array4"
   ]
  },
  {
   "cell_type": "markdown",
   "id": "01b3a276",
   "metadata": {},
   "source": [
    "So the reshape does leave the original array unchanged."
   ]
  },
  {
   "cell_type": "markdown",
   "id": "647faf41",
   "metadata": {},
   "source": [
    "### Arrays: indexing, slicing and copying\n",
    "\n",
    "Remember indexing into lists to find the elements at particular positions?   We can do this with arrays, but we need to specify the index we want for each dimension of the array.   For our two-dimensional arrays, we need to specify the row and column index, i.e. use a format like [`row_index`,`column_index`].  For exampe,  [0,0] gives us the element in the first column of the first row (as with lists, array indices start from 0 for the first element)."
   ]
  },
  {
   "cell_type": "code",
   "execution_count": 112,
   "id": "b21c9cd6",
   "metadata": {},
   "outputs": [
    {
     "data": {
      "text/plain": [
       "array([[0.  , 0.01, 0.02],\n",
       "       [0.03, 0.04, 0.05],\n",
       "       [0.06, 0.07, 0.08],\n",
       "       [0.09, 0.1 , 0.11],\n",
       "       [0.12, 0.13, 0.14],\n",
       "       [0.15, 0.16, 0.17]])"
      ]
     },
     "execution_count": 112,
     "metadata": {},
     "output_type": "execute_result"
    }
   ],
   "source": [
    "array4 = np.arange(0.0, 0.18, 0.01)   # make sure we have array4\n",
    "array4.resize(6,3)     \n",
    "\n",
    "array4"
   ]
  },
  {
   "cell_type": "markdown",
   "id": "2105ba8d",
   "metadata": {},
   "source": [
    "`array4[0,0]` gives the element in the first row and first column while `array4[5,2]` gives us the element in the third column (index 2) of the sixth row (index 5)."
   ]
  },
  {
   "cell_type": "code",
   "execution_count": 113,
   "id": "0a8a2dcc",
   "metadata": {},
   "outputs": [
    {
     "data": {
      "text/plain": [
       "0.0"
      ]
     },
     "execution_count": 113,
     "metadata": {},
     "output_type": "execute_result"
    }
   ],
   "source": [
    "array4[0,0]"
   ]
  },
  {
   "cell_type": "code",
   "execution_count": 114,
   "id": "baf6e47d",
   "metadata": {},
   "outputs": [
    {
     "data": {
      "text/plain": [
       "0.17"
      ]
     },
     "execution_count": 114,
     "metadata": {},
     "output_type": "execute_result"
    }
   ],
   "source": [
    "array4[5,2]"
   ]
  },
  {
   "cell_type": "markdown",
   "id": "f3788e53",
   "metadata": {},
   "source": [
    "We can use the colon to specify a range of columns or rows.  For example,  `[0:4,0]` gives us the elements in the first column (index 0) of rows with indices from 0 through 3.   Note that the row index range `0:4` gives rows with indices starting from index 0 and ending at index `3=4-1`, i.e., indices `0` through `3`."
   ]
  },
  {
   "cell_type": "code",
   "execution_count": 115,
   "id": "d0e40018",
   "metadata": {},
   "outputs": [
    {
     "data": {
      "text/plain": [
       "array([0.  , 0.03, 0.06, 0.09])"
      ]
     },
     "execution_count": 115,
     "metadata": {},
     "output_type": "execute_result"
    }
   ],
   "source": [
    "array4[0:4,0]"
   ]
  },
  {
   "cell_type": "markdown",
   "id": "8716a2b1",
   "metadata": {},
   "source": [
    "Similarly we could get all the elements in the second column (column index 1) of rows with indices 2 through 4."
   ]
  },
  {
   "cell_type": "code",
   "execution_count": 116,
   "id": "73439d61",
   "metadata": {},
   "outputs": [
    {
     "data": {
      "text/plain": [
       "array([0.07, 0.1 , 0.13])"
      ]
     },
     "execution_count": 116,
     "metadata": {},
     "output_type": "execute_result"
    }
   ],
   "source": [
    "array4[2:5,1]"
   ]
  },
  {
   "cell_type": "markdown",
   "id": "e11093c2",
   "metadata": {},
   "source": [
    "The colon on its own gives everything, so a column index of `:` gives all the columns.   Thus we can get, for example, all elements of a particular row  --  in this case, the third row."
   ]
  },
  {
   "cell_type": "code",
   "execution_count": 117,
   "id": "13e7b146",
   "metadata": {},
   "outputs": [
    {
     "data": {
      "text/plain": [
       "array([0.06, 0.07, 0.08])"
      ]
     },
     "execution_count": 117,
     "metadata": {},
     "output_type": "execute_result"
    }
   ],
   "source": [
    "array4[2,:]"
   ]
  },
  {
   "cell_type": "markdown",
   "id": "5e9d4695",
   "metadata": {},
   "source": [
    "Or all the elements of a specified column, in this case the first column."
   ]
  },
  {
   "cell_type": "code",
   "execution_count": 118,
   "id": "53787325",
   "metadata": {},
   "outputs": [
    {
     "data": {
      "text/plain": [
       "array([0.  , 0.03, 0.06, 0.09, 0.12, 0.15])"
      ]
     },
     "execution_count": 118,
     "metadata": {},
     "output_type": "execute_result"
    }
   ],
   "source": [
    "array4[:,0]"
   ]
  },
  {
   "cell_type": "markdown",
   "id": "debbfbd1",
   "metadata": {},
   "source": [
    "Or all the elements of a range of rows (think of this as like slicing the array horizontally to obtain row indices 1 through 4=5-1)."
   ]
  },
  {
   "cell_type": "code",
   "execution_count": 119,
   "id": "3255b1a3",
   "metadata": {},
   "outputs": [
    {
     "data": {
      "text/plain": [
       "array([[0.03, 0.04, 0.05],\n",
       "       [0.06, 0.07, 0.08],\n",
       "       [0.09, 0.1 , 0.11],\n",
       "       [0.12, 0.13, 0.14]])"
      ]
     },
     "execution_count": 119,
     "metadata": {},
     "output_type": "execute_result"
    }
   ],
   "source": [
    "array4[1:5,:]"
   ]
  },
  {
   "cell_type": "markdown",
   "id": "e88a71c3",
   "metadata": {},
   "source": [
    "Or all the elements of a range of columns (think of this as slicing the array vertically to obtain column indices 1 through 2)."
   ]
  },
  {
   "cell_type": "code",
   "execution_count": 120,
   "id": "d4e61cec",
   "metadata": {},
   "outputs": [
    {
     "data": {
      "text/plain": [
       "array([[0.01, 0.02],\n",
       "       [0.04, 0.05],\n",
       "       [0.07, 0.08],\n",
       "       [0.1 , 0.11],\n",
       "       [0.13, 0.14],\n",
       "       [0.16, 0.17]])"
      ]
     },
     "execution_count": 120,
     "metadata": {},
     "output_type": "execute_result"
    }
   ],
   "source": [
    "array4[:,1:3]"
   ]
  },
  {
   "cell_type": "markdown",
   "id": "ae6d7440",
   "metadata": {},
   "source": [
    "Naturally, we can slice both horizontally and vertically to obtain row indices 2 through 4 and column indices 0 through 1, as follows:"
   ]
  },
  {
   "cell_type": "code",
   "execution_count": 121,
   "id": "56348567",
   "metadata": {},
   "outputs": [
    {
     "data": {
      "text/plain": [
       "array([[0.06, 0.07],\n",
       "       [0.09, 0.1 ],\n",
       "       [0.12, 0.13]])"
      ]
     },
     "execution_count": 121,
     "metadata": {},
     "output_type": "execute_result"
    }
   ],
   "source": [
    "array4[2:5,0:2]     "
   ]
  },
  {
   "cell_type": "markdown",
   "id": "665f2d4c",
   "metadata": {},
   "source": [
    "Finally, `[:]` gives a copy of the whole array.  This copy of the original array can be assigned to a new name for furter manipulation without affecting the original array."
   ]
  },
  {
   "cell_type": "code",
   "execution_count": 122,
   "id": "2c6da494",
   "metadata": {},
   "outputs": [
    {
     "data": {
      "text/plain": [
       "array([[0.  , 0.01, 0.02],\n",
       "       [0.03, 0.04, 0.05],\n",
       "       [0.06, 0.07, 0.08],\n",
       "       [0.09, 0.1 , 0.11],\n",
       "       [0.12, 0.13, 0.14],\n",
       "       [0.15, 0.16, 0.17]])"
      ]
     },
     "execution_count": 122,
     "metadata": {},
     "output_type": "execute_result"
    }
   ],
   "source": [
    "CopyOfArray4 = array4[:]         # assign a copy of array4 to the new array named CopyOfArray4\n",
    "CopyOfArray4                     # disclose CopyOfArray4\n"
   ]
  },
  {
   "cell_type": "code",
   "execution_count": 123,
   "id": "4df44127",
   "metadata": {},
   "outputs": [
    {
     "data": {
      "text/plain": [
       "array([[0.  , 0.01],\n",
       "       [0.02, 0.03],\n",
       "       [0.04, 0.05],\n",
       "       [0.06, 0.07],\n",
       "       [0.08, 0.09],\n",
       "       [0.1 , 0.11],\n",
       "       [0.12, 0.13],\n",
       "       [0.14, 0.15],\n",
       "       [0.16, 0.17]])"
      ]
     },
     "execution_count": 123,
     "metadata": {},
     "output_type": "execute_result"
    }
   ],
   "source": [
    "CopyOfArray4.resize(9,2) # resize CopyOfArray4 from a 6-by-3 array to a 9-by-2 array\n",
    "CopyOfArray4             # disclose CopyOfArray4 as it is now"
   ]
  },
  {
   "cell_type": "code",
   "execution_count": 124,
   "id": "db137916",
   "metadata": {},
   "outputs": [
    {
     "data": {
      "text/plain": [
       "array([[0.  , 0.01, 0.02],\n",
       "       [0.03, 0.04, 0.05],\n",
       "       [0.06, 0.07, 0.08],\n",
       "       [0.09, 0.1 , 0.11],\n",
       "       [0.12, 0.13, 0.14],\n",
       "       [0.15, 0.16, 0.17]])"
      ]
     },
     "execution_count": 124,
     "metadata": {},
     "output_type": "execute_result"
    }
   ],
   "source": [
    "array4             # note that our original array4 has remained unchanged with size 6-by-3"
   ]
  },
  {
   "cell_type": "markdown",
   "id": "c63ce40d",
   "metadata": {},
   "source": [
    "### Useful arrays\n",
    "\n",
    "NumPy provides quick ways of making some useful kinds of arrays.   Some of these are shown in the cells below.\n",
    "\n",
    "An array of zeros or ones of a particular shape.   Here we ask for shape (2,3), i.e., 2 rows and 3 columns."
   ]
  },
  {
   "cell_type": "code",
   "execution_count": 125,
   "id": "efed5355",
   "metadata": {},
   "outputs": [
    {
     "data": {
      "text/plain": [
       "array([[0., 0., 0.],\n",
       "       [0., 0., 0.]])"
      ]
     },
     "execution_count": 125,
     "metadata": {},
     "output_type": "execute_result"
    }
   ],
   "source": [
    "arrayOfZeros = np.zeros((2,3)) # get a 2-by-3 array of zeros\n",
    "arrayOfZeros"
   ]
  },
  {
   "cell_type": "code",
   "execution_count": 126,
   "id": "823318a5",
   "metadata": {},
   "outputs": [
    {
     "data": {
      "text/plain": [
       "array([[1., 1., 1.],\n",
       "       [1., 1., 1.]])"
      ]
     },
     "execution_count": 126,
     "metadata": {},
     "output_type": "execute_result"
    }
   ],
   "source": [
    "arrayOfOnes = np.ones((2,3)) # get a 2-by-3 array of ones\n",
    "arrayOfOnes"
   ]
  },
  {
   "cell_type": "markdown",
   "id": "b52ade1d",
   "metadata": {},
   "source": [
    "An array for the identity matrix, i.e., square (same number of elements on each dimension) matrix with 1's along the diagonal and 0's everywhere else."
   ]
  },
  {
   "cell_type": "code",
   "execution_count": 127,
   "id": "ada5882b",
   "metadata": {},
   "outputs": [
    {
     "data": {
      "text/plain": [
       "array([[1., 0., 0.],\n",
       "       [0., 1., 0.],\n",
       "       [0., 0., 1.]])"
      ]
     },
     "execution_count": 127,
     "metadata": {},
     "output_type": "execute_result"
    }
   ],
   "source": [
    "iden = np.identity(3) # get a 3-by-3 identity matrix with 1's along the diagonal and 0's elsewhere\n",
    "iden"
   ]
  },
  {
   "cell_type": "markdown",
   "id": "d2dee5a1",
   "metadata": {},
   "source": [
    "### Useful functions for sequences\n",
    "\n",
    "Now we are going to demonstrate some useful methods of sequences.  A `list` is a sequence, and so is a `tuple`.  \n",
    "\n",
    "There are differences between them (recall that tuples are immutable) but in many cases we can use the same methods on them because they are both sequences.  \n",
    "\n",
    "We will demonstrate with a list and a tuple containing the same data values. The data could be the results of three IID Bernoulli trials.."
   ]
  },
  {
   "cell_type": "code",
   "execution_count": 128,
   "id": "a1e75424",
   "metadata": {},
   "outputs": [
    {
     "data": {
      "text/plain": [
       "[0, 1, 1]"
      ]
     },
     "execution_count": 128,
     "metadata": {},
     "output_type": "execute_result"
    }
   ],
   "source": [
    "obsDataList = [0, 1, 1]\n",
    "obsDataList"
   ]
  },
  {
   "cell_type": "code",
   "execution_count": 129,
   "id": "e45844d4",
   "metadata": {},
   "outputs": [
    {
     "data": {
      "text/plain": [
       "(0, 1, 1)"
      ]
     },
     "execution_count": 129,
     "metadata": {},
     "output_type": "execute_result"
    }
   ],
   "source": [
    "obsDataTuple = tuple(obsDataList)\n",
    "obsDataTuple"
   ]
  },
  {
   "cell_type": "markdown",
   "id": "80b4693b",
   "metadata": {},
   "source": [
    "A useful operation we can perform on a tuple is to count the number of times a particular element, say 0 or 1 in our ObsDataTuple, occurs. This is a statistic of our data called the sample frequency of the element of interest."
   ]
  },
  {
   "cell_type": "code",
   "execution_count": 130,
   "id": "932f8cbd",
   "metadata": {},
   "outputs": [
    {
     "data": {
      "text/plain": [
       "1"
      ]
     },
     "execution_count": 130,
     "metadata": {},
     "output_type": "execute_result"
    }
   ],
   "source": [
    "obsDataTuple.count(0)        # frequency of 0 using the tuple"
   ]
  },
  {
   "cell_type": "code",
   "execution_count": 131,
   "id": "5c8338eb",
   "metadata": {},
   "outputs": [
    {
     "data": {
      "text/plain": [
       "2"
      ]
     },
     "execution_count": 131,
     "metadata": {},
     "output_type": "execute_result"
    }
   ],
   "source": [
    "obsDataList.count(1)        # frequency of 1 using the list"
   ]
  },
  {
   "cell_type": "markdown",
   "id": "badb44f9",
   "metadata": {},
   "source": [
    "Another useful operation we can perform on a tuple is to sum all elements in our `obsDataTuple` or further scale the sum by the sample size. These are also statistics of our data called the sample sum and the sample mean, respectively.   Try the same things with `obsDataList`. "
   ]
  },
  {
   "cell_type": "code",
   "execution_count": 132,
   "id": "5d6e2930",
   "metadata": {},
   "outputs": [
    {
     "data": {
      "text/plain": [
       "2"
      ]
     },
     "execution_count": 132,
     "metadata": {},
     "output_type": "execute_result"
    }
   ],
   "source": [
    "sum(obsDataTuple)            # sample sum"
   ]
  },
  {
   "cell_type": "code",
   "execution_count": 133,
   "id": "a59dad7d",
   "metadata": {},
   "outputs": [
    {
     "data": {
      "text/plain": [
       "2/3"
      ]
     },
     "execution_count": 133,
     "metadata": {},
     "output_type": "execute_result"
    }
   ],
   "source": [
    "sum(obsDataTuple)/3          # sample mean using sage.rings.Rational"
   ]
  },
  {
   "cell_type": "code",
   "execution_count": 134,
   "id": "54db2987",
   "metadata": {},
   "outputs": [
    {
     "data": {
      "text/plain": [
       "2/3"
      ]
     },
     "execution_count": 134,
     "metadata": {},
     "output_type": "execute_result"
    }
   ],
   "source": [
    "obsDataTuple.count(1) / 3    # alternative expression for sample mean in IID Bernoulli trials"
   ]
  },
  {
   "cell_type": "markdown",
   "id": "c3e19694",
   "metadata": {},
   "source": [
    "We used a lot of the techniques we have seen so far when we wanted to get the relative frequency associated with each ball in the lotto data.\n",
    "\n",
    "Let's revist the code that made relative frequencies and fully understand each part of it now."
   ]
  },
  {
   "cell_type": "code",
   "execution_count": 135,
   "id": "3d232ceb",
   "metadata": {},
   "outputs": [
    {
     "name": "stdout",
     "output_type": "stream",
     "text": [
      "[(4, 2/557), (3, 3/1114), (11, 11/1114), (35, 35/1114), (23, 23/1114), (12, 6/557), (14, 7/557), (13, 13/1114), (15, 15/1114), (19, 19/1114), (36, 18/557), (18, 9/557), (37, 37/1114), (39, 39/1114), (1, 1/1114), (24, 12/557), (29, 29/1114), (38, 19/557), (40, 20/557), (7, 7/1114), (21, 21/1114), (32, 16/557), (2, 1/557), (34, 17/557), (20, 10/557), (28, 14/557), (30, 15/557), (9, 9/1114), (22, 11/557), (31, 31/1114), (16, 8/557), (5, 5/1114), (6, 3/557), (27, 27/1114), (10, 5/557), (25, 25/1114), (17, 17/1114), (26, 13/557), (33, 33/1114), (8, 4/557)]\n"
     ]
    }
   ],
   "source": [
    "ballOneFreqs = makeFreqDict(listBallOne)   # call the function to make the dictionary\n",
    "totalCounts = sum(ballOneFreqs.values())\n",
    "relFreqs = []\n",
    "for k in ballOneFreqs.keys():\n",
    "    relFreqs.append(k/totalCounts)\n",
    "numRelFreqPairs = zip(ballOneFreqs.keys(), relFreqs) # zip the keys and relative frequencies together\n",
    "print(list(numRelFreqPairs))"
   ]
  },
  {
   "cell_type": "markdown",
   "id": "8d63b559",
   "metadata": {},
   "source": [
    "We could also do it with a list comprehension as follows:"
   ]
  },
  {
   "cell_type": "code",
   "execution_count": 136,
   "id": "fd742c21",
   "metadata": {},
   "outputs": [
    {
     "name": "stdout",
     "output_type": "stream",
     "text": [
      "[(4, 2/557), (3, 3/1114), (11, 11/1114), (35, 35/1114), (23, 23/1114), (12, 6/557), (14, 7/557), (13, 13/1114), (15, 15/1114), (19, 19/1114), (36, 18/557), (18, 9/557), (37, 37/1114), (39, 39/1114), (1, 1/1114), (24, 12/557), (29, 29/1114), (38, 19/557), (40, 20/557), (7, 7/1114), (21, 21/1114), (32, 16/557), (2, 1/557), (34, 17/557), (20, 10/557), (28, 14/557), (30, 15/557), (9, 9/1114), (22, 11/557), (31, 31/1114), (16, 8/557), (5, 5/1114), (6, 3/557), (27, 27/1114), (10, 5/557), (25, 25/1114), (17, 17/1114), (26, 13/557), (33, 33/1114), (8, 4/557)]\n"
     ]
    }
   ],
   "source": [
    "ballOneFreqs = makeFreqDict(listBallOne)   # call the function to make the dictionary\n",
    "totalCounts = sum(ballOneFreqs.values())\n",
    "relFreqs = [k/totalCounts for k in ballOneFreqs.keys()]\n",
    "numRelFreqPairs = zip(ballOneFreqs.keys(), relFreqs) # zip the keys and relative frequencies together\n",
    "print(list(numRelFreqPairs))"
   ]
  },
  {
   "cell_type": "markdown",
   "id": "c8dcff92",
   "metadata": {
    "collapsed": true
   },
   "source": [
    "### More on tuples and sequences in general\n",
    "\n",
    "First, we can make an empty tuple like this:"
   ]
  },
  {
   "cell_type": "code",
   "execution_count": 137,
   "id": "28b5ff15",
   "metadata": {},
   "outputs": [
    {
     "data": {
      "text/plain": [
       "0"
      ]
     },
     "execution_count": 137,
     "metadata": {},
     "output_type": "execute_result"
    }
   ],
   "source": [
    "empty = ()\n",
    "len(empty)"
   ]
  },
  {
   "cell_type": "markdown",
   "id": "deb4da09",
   "metadata": {},
   "source": [
    "Secondly, if we want a tuple with only one element we have to use a trailing comma.   If you think about it from the computer's point of view, if it can't see the trailing comma, how is it to tell that you want a tuple not just a single number?"
   ]
  },
  {
   "cell_type": "code",
   "execution_count": 138,
   "id": "735ef39f",
   "metadata": {},
   "outputs": [
    {
     "data": {
      "text/plain": [
       "<class 'tuple'>"
      ]
     },
     "execution_count": 138,
     "metadata": {},
     "output_type": "execute_result"
    }
   ],
   "source": [
    "aFineSingletonTuple = (1, )\n",
    "type(aFineSingletonTuple)"
   ]
  },
  {
   "cell_type": "code",
   "execution_count": 139,
   "id": "190c5140",
   "metadata": {},
   "outputs": [
    {
     "data": {
      "text/plain": [
       "<class 'sage.rings.integer.Integer'>"
      ]
     },
     "execution_count": 139,
     "metadata": {},
     "output_type": "execute_result"
    }
   ],
   "source": [
    "unFineSingletonTuple = (1)\n",
    "type(unFineSingletonTuple)"
   ]
  },
  {
   "cell_type": "code",
   "execution_count": 140,
   "id": "c9162f75",
   "metadata": {},
   "outputs": [
    {
     "data": {
      "text/plain": [
       "<class 'sage.rings.integer.Integer'>"
      ]
     },
     "execution_count": 140,
     "metadata": {},
     "output_type": "execute_result"
    }
   ],
   "source": [
    "unFineSingletonTuple = ((1))\n",
    "type(unFineSingletonTuple)"
   ]
  },
  {
   "cell_type": "code",
   "execution_count": 141,
   "id": "8c53f74f",
   "metadata": {},
   "outputs": [
    {
     "data": {
      "text/plain": [
       "<class 'tuple'>"
      ]
     },
     "execution_count": 141,
     "metadata": {},
     "output_type": "execute_result"
    }
   ],
   "source": [
    "aFineSingletonTuple = ('lonelyString', )\n",
    "type(aFineSingletonTuple)"
   ]
  },
  {
   "cell_type": "code",
   "execution_count": 142,
   "id": "2414d74e",
   "metadata": {},
   "outputs": [
    {
     "data": {
      "text/plain": [
       "<class 'str'>"
      ]
     },
     "execution_count": 142,
     "metadata": {},
     "output_type": "execute_result"
    }
   ],
   "source": [
    "unFineSingletonTuple = ('lonelyString')\n",
    "type(unFineSingletonTuple)"
   ]
  },
  {
   "cell_type": "markdown",
   "id": "c3e48bf6",
   "metadata": {},
   "source": [
    "You can make tuples out almost any object.   It's as easy as putting the things you want in ( ) parentheses and separating them by commas.  "
   ]
  },
  {
   "cell_type": "code",
   "execution_count": 143,
   "id": "7da5e913",
   "metadata": {},
   "outputs": [
    {
     "data": {
      "text/plain": [
       "(1, 1, 1, 1.00000000000000, 1, 1.0)"
      ]
     },
     "execution_count": 143,
     "metadata": {},
     "output_type": "execute_result"
    }
   ],
   "source": [
    "myTupleOfStuff = (1, ZZ(1), QQ(1), RR(1), int(1), float(1))\n",
    "myTupleOfStuff"
   ]
  },
  {
   "cell_type": "code",
   "execution_count": 144,
   "id": "178b6c4c",
   "metadata": {},
   "outputs": [
    {
     "data": {
      "text/plain": [
       "True"
      ]
     },
     "execution_count": 144,
     "metadata": {},
     "output_type": "execute_result"
    }
   ],
   "source": [
    "1==ZZ(1) # remember? will this be True/False?"
   ]
  },
  {
   "cell_type": "markdown",
   "id": "66721e7d",
   "metadata": {},
   "source": [
    "Actually, you don't even need the ( ).   If you present SageMath (Python) with a sequence of object separated by commas, the default result is a tuple."
   ]
  },
  {
   "cell_type": "code",
   "execution_count": 145,
   "id": "34819a65",
   "metadata": {},
   "outputs": [
    {
     "data": {
      "text/plain": [
       "<class 'tuple'>"
      ]
     },
     "execution_count": 145,
     "metadata": {},
     "output_type": "execute_result"
    }
   ],
   "source": [
    "myTuple2 = 60, 400    # assign a tuple to the variable named myTuple2\n",
    "type(myTuple2)"
   ]
  },
  {
   "cell_type": "markdown",
   "id": "2d28563f",
   "metadata": {},
   "source": [
    "A statement like the one in the cell above is known as tuple packing (more generally, sequence packing).\n",
    "\n",
    "When we work with tuples we also often use the opposite of packing - Python's very useful sequence unpacking capability.   This is, literally, taking a sequence and unpacking or extracting its elements.\n",
    "\n"
   ]
  },
  {
   "cell_type": "code",
   "execution_count": 146,
   "id": "2814ad4b",
   "metadata": {},
   "outputs": [
    {
     "name": "stdout",
     "output_type": "stream",
     "text": [
      "60\n",
      "400\n"
     ]
    },
    {
     "data": {
      "text/plain": [
       "24000"
      ]
     },
     "execution_count": 146,
     "metadata": {},
     "output_type": "execute_result"
    }
   ],
   "source": [
    "x, y = myTuple2     # tuple unpacking\n",
    "print( x)\n",
    "print( y)\n",
    "x * y"
   ]
  },
  {
   "cell_type": "markdown",
   "id": "119c11e1",
   "metadata": {},
   "source": [
    "The statement below is an example of *multiple assignment*, which you can see now is really just a combination of tuple packing followed by unpacking."
   ]
  },
  {
   "cell_type": "code",
   "execution_count": 147,
   "id": "ba9b5fa8",
   "metadata": {},
   "outputs": [
    {
     "name": "stdout",
     "output_type": "stream",
     "text": [
      "600.000000000000\n",
      "4000.00000000000\n"
     ]
    },
    {
     "data": {
      "text/plain": [
       "0.150000000000000"
      ]
     },
     "execution_count": 147,
     "metadata": {},
     "output_type": "execute_result"
    }
   ],
   "source": [
    "x, y = 600.0, 4000.0\n",
    "print( x)\n",
    "print( y)\n",
    "x/y"
   ]
  },
  {
   "cell_type": "markdown",
   "id": "93f5d5b4",
   "metadata": {},
   "source": [
    "Let's try to implement a for loop with a tuple -- it will work just like the for loop with a list."
   ]
  },
  {
   "cell_type": "code",
   "execution_count": 148,
   "id": "6cda63a9",
   "metadata": {},
   "outputs": [
    {
     "name": "stdout",
     "output_type": "stream",
     "text": [
      "1\n",
      "4\n",
      "9\n"
     ]
    }
   ],
   "source": [
    "for x in (1,2,3):\n",
    "    print( x^2)"
   ]
  },
  {
   "cell_type": "markdown",
   "id": "3005c747",
   "metadata": {},
   "source": [
    "Next let's try a list comprehension on the tuple. This creates a list as expected."
   ]
  },
  {
   "cell_type": "code",
   "execution_count": 149,
   "id": "4b132449",
   "metadata": {},
   "outputs": [
    {
     "data": {
      "text/plain": [
       "[1, 4, 9]"
      ]
     },
     "execution_count": 149,
     "metadata": {},
     "output_type": "execute_result"
    }
   ],
   "source": [
    "[x^2 for x in (1,2,3)]"
   ]
  },
  {
   "cell_type": "markdown",
   "id": "37d2bcd0",
   "metadata": {},
   "source": [
    "But if we try the same comprehension with tuples, i.e., with `()` insteqad of `[]` we get a `generator object`. This will be covered next by first easing into functional programming in Python."
   ]
  },
  {
   "cell_type": "code",
   "execution_count": 150,
   "id": "86676b9b",
   "metadata": {},
   "outputs": [
    {
     "data": {
      "text/plain": [
       "<generator object <genexpr> at 0x7fa8bd08a6d8>"
      ]
     },
     "execution_count": 150,
     "metadata": {},
     "output_type": "execute_result"
    }
   ],
   "source": [
    "(x^2 for x in (1,2,3))"
   ]
  },
  {
   "cell_type": "markdown",
   "id": "e517087e",
   "metadata": {},
   "source": [
    "## Functional Programming in Python\n",
    "\n",
    "Let us take at the basics of functional programming and what Python has to offer on this front at:\n",
    "\n",
    "- [https://docs.python.org/2/howto/functional.html#functional-programming-howto](https://docs.python.org/2/howto/functional.html#functional-programming-howto)"
   ]
  },
  {
   "cell_type": "code",
   "execution_count": 151,
   "id": "912ece98",
   "metadata": {},
   "outputs": [
    {
     "data": {
      "text/html": [
       "\n",
       "        <iframe\n",
       "            width=\"95%\"\n",
       "            height=\"600\"\n",
       "            src=\"https://docs.python.org/3/howto/functional.html#functional-programming-howto\"\n",
       "            frameborder=\"0\"\n",
       "            allowfullscreen\n",
       "        ></iframe>\n",
       "        "
      ],
      "text/plain": [
       "<IPython.lib.display.IFrame object at 0x7fa8bd2d7278>"
      ]
     },
     "execution_count": 151,
     "metadata": {},
     "output_type": "execute_result"
    }
   ],
   "source": [
    "showURL(\"https://docs.python.org/3/howto/functional.html#functional-programming-howto\",600)"
   ]
  },
  {
   "cell_type": "markdown",
   "id": "7749f51a",
   "metadata": {},
   "source": [
    "### Iterators\n",
    "\n",
    "From [https://docs.python.org/2/howto/functional.html#iterators](https://docs.python.org/2/howto/functional.html#iterators):\n",
    "\n",
    "> An iterator is an object representing a stream of data; this object returns the data one element at a time. A Python iterator must support a method called next() that takes no arguments and always returns the next element of the stream. If there are no more elements in the stream, next() must raise the StopIteration exception. Iterators don’t have to be finite, though; it’s perfectly reasonable to write an iterator that produces an infinite stream of data.\n",
    "\n",
    "> The built-in [iter()](https://docs.python.org/2/library/functions.html#iter) function takes an arbitrary object and tries to return an iterator that will return the object’s contents or elements, raising [TypeError](https://docs.python.org/2/library/exceptions.html#exceptions.TypeError) if the object doesn’t support iteration. Several of Python’s built-in data types support iteration, the most common being lists and dictionaries. An object is called an iterable object if you can get an iterator for it.\n",
    "\n",
    "> You can experiment with the iteration interface manually:"
   ]
  },
  {
   "cell_type": "code",
   "execution_count": 152,
   "id": "b88f6734",
   "metadata": {},
   "outputs": [
    {
     "data": {
      "text/plain": [
       "<list_iterator object at 0x7fa8bd336e10>"
      ]
     },
     "execution_count": 152,
     "metadata": {},
     "output_type": "execute_result"
    }
   ],
   "source": [
    "L = [1,2,3]\n",
    "it = iter(L)\n",
    "it"
   ]
  },
  {
   "cell_type": "code",
   "execution_count": 153,
   "id": "e670e265",
   "metadata": {},
   "outputs": [
    {
     "data": {
      "text/plain": [
       "<class 'list_iterator'>"
      ]
     },
     "execution_count": 153,
     "metadata": {},
     "output_type": "execute_result"
    }
   ],
   "source": [
    "type(it)"
   ]
  },
  {
   "cell_type": "code",
   "execution_count": 154,
   "id": "dc74cdbb",
   "metadata": {},
   "outputs": [
    {
     "data": {
      "text/plain": [
       "1"
      ]
     },
     "execution_count": 154,
     "metadata": {},
     "output_type": "execute_result"
    }
   ],
   "source": [
    "next(it)"
   ]
  },
  {
   "cell_type": "code",
   "execution_count": 155,
   "id": "f328e7d3",
   "metadata": {},
   "outputs": [
    {
     "data": {
      "text/plain": [
       "2"
      ]
     },
     "execution_count": 155,
     "metadata": {},
     "output_type": "execute_result"
    }
   ],
   "source": [
    "next(it)"
   ]
  },
  {
   "cell_type": "code",
   "execution_count": 156,
   "id": "4b08049c",
   "metadata": {},
   "outputs": [
    {
     "data": {
      "text/plain": [
       "3"
      ]
     },
     "execution_count": 156,
     "metadata": {},
     "output_type": "execute_result"
    }
   ],
   "source": [
    "next(it)"
   ]
  },
  {
   "cell_type": "code",
   "execution_count": 158,
   "id": "51f08415",
   "metadata": {},
   "outputs": [
    {
     "ename": "StopIteration",
     "evalue": "",
     "output_type": "error",
     "traceback": [
      "\u001b[0;31m---------------------------------------------------------------------------\u001b[0m",
      "\u001b[0;31mStopIteration\u001b[0m                             Traceback (most recent call last)",
      "\u001b[0;32m<ipython-input-158-bc1ab118995a>\u001b[0m in \u001b[0;36m<module>\u001b[0;34m()\u001b[0m\n\u001b[0;32m----> 1\u001b[0;31m \u001b[0mnext\u001b[0m\u001b[0;34m(\u001b[0m\u001b[0mit\u001b[0m\u001b[0;34m)\u001b[0m\u001b[0;34m\u001b[0m\u001b[0;34m\u001b[0m\u001b[0m\n\u001b[0m",
      "\u001b[0;31mStopIteration\u001b[0m: "
     ]
    }
   ],
   "source": [
    "next(it)"
   ]
  },
  {
   "cell_type": "markdown",
   "id": "37a65561",
   "metadata": {},
   "source": [
    "> Iterators can be materialized as lists or tuples by using the list() or tuple() constructor functions:"
   ]
  },
  {
   "cell_type": "code",
   "execution_count": 159,
   "id": "e03d42da",
   "metadata": {},
   "outputs": [
    {
     "data": {
      "text/plain": [
       "(1, 2, 3)"
      ]
     },
     "execution_count": 159,
     "metadata": {},
     "output_type": "execute_result"
    }
   ],
   "source": [
    "L = [1,2,3]\n",
    "it = iter(L)\n",
    "t = tuple(it)\n",
    "t"
   ]
  },
  {
   "cell_type": "code",
   "execution_count": 160,
   "id": "418659e1",
   "metadata": {},
   "outputs": [
    {
     "data": {
      "text/plain": [
       "[1, 2, 3]"
      ]
     },
     "execution_count": 160,
     "metadata": {},
     "output_type": "execute_result"
    }
   ],
   "source": [
    "L = [1,2,3]\n",
    "it = iter(L)\n",
    "l = list(it)\n",
    "l"
   ]
  },
  {
   "cell_type": "code",
   "execution_count": 161,
   "id": "219e4eee",
   "metadata": {},
   "outputs": [
    {
     "data": {
      "text/plain": [
       "3"
      ]
     },
     "execution_count": 161,
     "metadata": {},
     "output_type": "execute_result"
    }
   ],
   "source": [
    "it = iter(L)\n",
    "max(it)  # you can call functions on iterators"
   ]
  },
  {
   "cell_type": "markdown",
   "id": "78bc9522",
   "metadata": {},
   "source": [
    "### Generators\n",
    "\n",
    "\"Naive Tuple Comprehension\" creates a `generator` in SageMath/Python. From [https://docs.python.org/2/glossary.html#term-generator](https://docs.python.org/2/glossary.html#term-generator):\n",
    "\n",
    "> **generator**\n",
    "> A function which returns an iterator. It looks like a normal function except that it contains yield statements for producing a series of values usable in a for-loop or that can be retrieved one at a time with the next() function. Each yield temporarily suspends processing, remembering the location execution state (including local variables and pending try-statements). When the generator resumes, it picks-up where it left-off (in contrast to functions which start fresh on every invocation).\n",
    "\n",
    "> **generator expression**\n",
    "> An expression that returns an iterator. It looks like a normal expression followed by a for expression defining a loop variable, range, and an optional if expression. The combined expression generates values for an enclosing function:\n",
    "\n",
    "**List comprehensions (listcomps) and Generator Expressions (genexps)** from \n",
    "- [https://docs.python.org/2/howto/functional.html#generator-expressions-and-list-comprehensions](https://docs.python.org/2/howto/functional.html#generator-expressions-and-list-comprehensions)\n",
    "\n",
    ">With a list comprehension, you get back a Python list; stripped_list is a list containing the resulting lines, not an iterator. Generator expressions return an iterator that computes the values as necessary, not needing to materialize all the values at once. This means that list comprehensions aren’t useful if you’re working with iterators that return an infinite stream or a very large amount of data. Generator expressions are preferable in these situations.\n",
    "> Generator expressions are surrounded by parentheses (“()”) and list comprehensions are surrounded by square brackets (“[]”). Generator expressions have the form:\n",
    "\n",
    "```\n",
    "( expression for expr in sequence1\n",
    "             if condition1\n",
    "             for expr2 in sequence2\n",
    "             if condition2\n",
    "             for expr3 in sequence3 ...\n",
    "             if condition3\n",
    "             for exprN in sequenceN\n",
    "             if conditionN )\n",
    "```"
   ]
  },
  {
   "cell_type": "markdown",
   "id": "7056a0fc",
   "metadata": {},
   "source": [
    "> Two common operations on an iterator’s output are 1) performing some operation for every element, 2) selecting a subset of elements that meet some condition. For example, given a list of strings, you might want to strip off trailing whitespace from each line or extract all the strings containing a given substring.\n",
    "\n",
    "> List comprehensions and generator expressions (short form: “listcomps” and “genexps”) are a concise notation for such operations, borrowed from the functional programming language Haskell (https://www.haskell.org/). You can strip all the whitespace from a stream of strings with the following code:"
   ]
  },
  {
   "cell_type": "code",
   "execution_count": 162,
   "id": "e03e5050",
   "metadata": {},
   "outputs": [],
   "source": [
    "line_list = ['  line 1\\n', 'line 2  \\n', 'line 3   \\n']\n",
    "\n",
    "# List comprehension -- returns list\n",
    "stripped_list = [Line.strip() for Line in line_list]\n",
    "\n",
    "# Generator expression -- returns a generator\n",
    "stripped_iter = (Line.strip() for Line in line_list)"
   ]
  },
  {
   "cell_type": "code",
   "execution_count": 163,
   "id": "81bd904d",
   "metadata": {},
   "outputs": [
    {
     "data": {
      "text/plain": [
       "['line 1', 'line 2', 'line 3']"
      ]
     },
     "execution_count": 163,
     "metadata": {},
     "output_type": "execute_result"
    }
   ],
   "source": [
    "stripped_list # returns a list"
   ]
  },
  {
   "cell_type": "code",
   "execution_count": 164,
   "id": "2f4b0bff",
   "metadata": {},
   "outputs": [
    {
     "data": {
      "text/plain": [
       "<class 'generator'>"
      ]
     },
     "execution_count": 164,
     "metadata": {},
     "output_type": "execute_result"
    }
   ],
   "source": [
    "type(stripped_iter) # returns a generator"
   ]
  },
  {
   "cell_type": "code",
   "execution_count": 165,
   "id": "3dd8824b",
   "metadata": {},
   "outputs": [
    {
     "data": {
      "text/plain": [
       "<generator object <genexpr> at 0x7fa8bd08a408>"
      ]
     },
     "execution_count": 165,
     "metadata": {},
     "output_type": "execute_result"
    }
   ],
   "source": [
    "stripped_iter # returns only an genexpr generator object"
   ]
  },
  {
   "cell_type": "code",
   "execution_count": 166,
   "id": "06c51c8b",
   "metadata": {},
   "outputs": [
    {
     "data": {
      "text/plain": [
       "['line 1', 'line 2', 'line 3']"
      ]
     },
     "execution_count": 166,
     "metadata": {},
     "output_type": "execute_result"
    }
   ],
   "source": [
    "list(stripped_iter) # the generator can be materialized into a list "
   ]
  },
  {
   "cell_type": "code",
   "execution_count": 167,
   "id": "bc2b3b19",
   "metadata": {},
   "outputs": [
    {
     "data": {
      "text/plain": [
       "()"
      ]
     },
     "execution_count": 167,
     "metadata": {},
     "output_type": "execute_result"
    }
   ],
   "source": [
    "tuple(stripped_iter) \n",
    "# the generator can be materialized into a tuple - it's already been emptied! "
   ]
  },
  {
   "cell_type": "code",
   "execution_count": 168,
   "id": "484f8395",
   "metadata": {},
   "outputs": [
    {
     "data": {
      "text/plain": [
       "('line 1', 'line 2', 'line 3')"
      ]
     },
     "execution_count": 168,
     "metadata": {},
     "output_type": "execute_result"
    }
   ],
   "source": [
    "# Generator expression -- returns a generator\n",
    "stripped_iter = (Line.strip() for Line in line_list) # let's create a new generator\n",
    "tuple(stripped_iter) # the generator can be materialized into a tuple now"
   ]
  },
  {
   "cell_type": "markdown",
   "id": "1328b445",
   "metadata": {},
   "source": [
    "Once again we have emptied the `stripped_iter` so we only get an empty list when we materilize it into a list."
   ]
  },
  {
   "cell_type": "code",
   "execution_count": 169,
   "id": "73ed1a8e",
   "metadata": {},
   "outputs": [
    {
     "data": {
      "text/plain": [
       "[]"
      ]
     },
     "execution_count": 169,
     "metadata": {},
     "output_type": "execute_result"
    }
   ],
   "source": [
    "list(stripped_iter) "
   ]
  },
  {
   "cell_type": "code",
   "execution_count": 170,
   "id": "d90a0588",
   "metadata": {},
   "outputs": [
    {
     "data": {
      "text/html": [
       "\n",
       "        <iframe\n",
       "            width=\"95%\"\n",
       "            height=\"500\"\n",
       "            src=\"https://docs.python.org/3/howto/functional.html#generator-expressions-and-list-comprehensions\"\n",
       "            frameborder=\"0\"\n",
       "            allowfullscreen\n",
       "        ></iframe>\n",
       "        "
      ],
      "text/plain": [
       "<IPython.lib.display.IFrame object at 0x7fa8bd2fb390>"
      ]
     },
     "execution_count": 170,
     "metadata": {},
     "output_type": "execute_result"
    }
   ],
   "source": [
    "showURL(\"https://docs.python.org/3/howto/functional.html#generator-expressions-and-list-comprehensions\",500)"
   ]
  },
  {
   "cell_type": "code",
   "execution_count": 171,
   "id": "ac67b98e",
   "metadata": {},
   "outputs": [],
   "source": [
    "myGenerator = (x^2 for x in (1,2,3)) # this is actually a generator"
   ]
  },
  {
   "cell_type": "code",
   "execution_count": 172,
   "id": "0e1c3c8b",
   "metadata": {},
   "outputs": [
    {
     "data": {
      "text/plain": [
       "<class 'generator'>"
      ]
     },
     "execution_count": 172,
     "metadata": {},
     "output_type": "execute_result"
    }
   ],
   "source": [
    "type(myGenerator)"
   ]
  },
  {
   "cell_type": "code",
   "execution_count": 173,
   "id": "889a0776",
   "metadata": {},
   "outputs": [
    {
     "data": {
      "text/plain": [
       "1"
      ]
     },
     "execution_count": 173,
     "metadata": {},
     "output_type": "execute_result"
    }
   ],
   "source": [
    "next(myGenerator)"
   ]
  },
  {
   "cell_type": "code",
   "execution_count": 174,
   "id": "1b14744b",
   "metadata": {},
   "outputs": [
    {
     "data": {
      "text/plain": [
       "4"
      ]
     },
     "execution_count": 174,
     "metadata": {},
     "output_type": "execute_result"
    }
   ],
   "source": [
    "next(myGenerator)"
   ]
  },
  {
   "cell_type": "code",
   "execution_count": 175,
   "id": "5acc27e3",
   "metadata": {},
   "outputs": [
    {
     "data": {
      "text/plain": [
       "9"
      ]
     },
     "execution_count": 175,
     "metadata": {},
     "output_type": "execute_result"
    }
   ],
   "source": [
    "next(myGenerator)"
   ]
  },
  {
   "cell_type": "code",
   "execution_count": 176,
   "id": "7127f7a4",
   "metadata": {},
   "outputs": [
    {
     "ename": "StopIteration",
     "evalue": "",
     "output_type": "error",
     "traceback": [
      "\u001b[0;31m---------------------------------------------------------------------------\u001b[0m",
      "\u001b[0;31mStopIteration\u001b[0m                             Traceback (most recent call last)",
      "\u001b[0;32m<ipython-input-176-315144e704c8>\u001b[0m in \u001b[0;36m<module>\u001b[0;34m()\u001b[0m\n\u001b[0;32m----> 1\u001b[0;31m \u001b[0mnext\u001b[0m\u001b[0;34m(\u001b[0m\u001b[0mmyGenerator\u001b[0m\u001b[0;34m)\u001b[0m\u001b[0;34m\u001b[0m\u001b[0;34m\u001b[0m\u001b[0m\n\u001b[0m",
      "\u001b[0;31mStopIteration\u001b[0m: "
     ]
    }
   ],
   "source": [
    "next(myGenerator)"
   ]
  },
  {
   "cell_type": "markdown",
   "id": "7a279336",
   "metadata": {},
   "source": [
    "We can pass a generator to a function like `sum` to evaluate it:"
   ]
  },
  {
   "cell_type": "code",
   "execution_count": 177,
   "id": "cdf82869",
   "metadata": {},
   "outputs": [],
   "source": [
    "myGenerator = (i*i for i in range(10)) "
   ]
  },
  {
   "cell_type": "code",
   "execution_count": 178,
   "id": "7b1a463b",
   "metadata": {},
   "outputs": [
    {
     "data": {
      "text/plain": [
       "285"
      ]
     },
     "execution_count": 178,
     "metadata": {},
     "output_type": "execute_result"
    }
   ],
   "source": [
    "sum(myGenerator)"
   ]
  },
  {
   "cell_type": "markdown",
   "id": "99a5ccff",
   "metadata": {},
   "source": [
    "See [https://docs.python.org/2/howto/functional.html#generators](https://docs.python.org/2/howto/functional.html#generators) for more details:\n",
    "\n",
    "> Generators are a special class of functions that simplify the task of writing iterators. Regular functions compute a value and return it, but generators return an iterator that returns a stream of values.\n",
    "\n",
    "> You’re doubtless familiar with how regular function calls work in Python or C. When you call a function, it gets a private namespace where its local variables are created. When the function reaches a return statement, the local variables are destroyed and the value is returned to the caller. A later call to the same function creates a new private namespace and a fresh set of local variables. But, what if the local variables weren’t thrown away on exiting a function? What if you could later resume the function where it left off? This is what generators provide; they can be thought of as resumable functions.\n",
    "\n",
    "> Here’s the simplest example of a generator function:"
   ]
  },
  {
   "cell_type": "code",
   "execution_count": 179,
   "id": "4751379e",
   "metadata": {},
   "outputs": [],
   "source": [
    "def generate_ints(N):\n",
    "    for i in range(N):\n",
    "        yield i"
   ]
  },
  {
   "cell_type": "markdown",
   "id": "95e24e2e",
   "metadata": {},
   "source": [
    "> Any function containing a yield keyword is a generator function; this is detected by Python’s [bytecode](https://docs.python.org/2/glossary.html#term-bytecode) compiler which compiles the function specially as a result.\n",
    "\n",
    "> When you call a generator function, it doesn’t return a single value; instead it returns a generator object that supports the iterator protocol. On executing the yield expression, the generator outputs the value of i, similar to a return statement. The big difference between yield and a return statement is that on reaching a yield the generator’s state of execution is suspended and local variables are preserved. On the next call to the generator’s .next() method, the function will resume executing.\n",
    "\n",
    "> Here’s a sample usage of the generate_ints() generator:"
   ]
  },
  {
   "cell_type": "code",
   "execution_count": 180,
   "id": "590812d0",
   "metadata": {},
   "outputs": [
    {
     "data": {
      "text/plain": [
       "<generator object generate_ints at 0x7fa8bd08ab10>"
      ]
     },
     "execution_count": 180,
     "metadata": {},
     "output_type": "execute_result"
    }
   ],
   "source": [
    "gen = generate_ints(3)\n",
    "gen"
   ]
  },
  {
   "cell_type": "code",
   "execution_count": 181,
   "id": "532a032c",
   "metadata": {},
   "outputs": [
    {
     "data": {
      "text/plain": [
       "0"
      ]
     },
     "execution_count": 181,
     "metadata": {},
     "output_type": "execute_result"
    }
   ],
   "source": [
    "next(gen)"
   ]
  },
  {
   "cell_type": "code",
   "execution_count": 182,
   "id": "159823eb",
   "metadata": {},
   "outputs": [
    {
     "data": {
      "text/plain": [
       "1"
      ]
     },
     "execution_count": 182,
     "metadata": {},
     "output_type": "execute_result"
    }
   ],
   "source": [
    "next(gen)"
   ]
  },
  {
   "cell_type": "code",
   "execution_count": 183,
   "id": "bc222019",
   "metadata": {},
   "outputs": [
    {
     "data": {
      "text/plain": [
       "2"
      ]
     },
     "execution_count": 183,
     "metadata": {},
     "output_type": "execute_result"
    }
   ],
   "source": [
    "next(gen)"
   ]
  },
  {
   "cell_type": "code",
   "execution_count": 184,
   "id": "d070582d",
   "metadata": {
    "scrolled": true
   },
   "outputs": [
    {
     "ename": "StopIteration",
     "evalue": "",
     "output_type": "error",
     "traceback": [
      "\u001b[0;31m---------------------------------------------------------------------------\u001b[0m",
      "\u001b[0;31mStopIteration\u001b[0m                             Traceback (most recent call last)",
      "\u001b[0;32m<ipython-input-184-6e72e47198db>\u001b[0m in \u001b[0;36m<module>\u001b[0;34m()\u001b[0m\n\u001b[0;32m----> 1\u001b[0;31m \u001b[0mnext\u001b[0m\u001b[0;34m(\u001b[0m\u001b[0mgen\u001b[0m\u001b[0;34m)\u001b[0m\u001b[0;34m\u001b[0m\u001b[0;34m\u001b[0m\u001b[0m\n\u001b[0m",
      "\u001b[0;31mStopIteration\u001b[0m: "
     ]
    }
   ],
   "source": [
    "next(gen)"
   ]
  },
  {
   "cell_type": "code",
   "execution_count": 0,
   "id": "b0518b6e",
   "metadata": {},
   "outputs": [],
   "source": [
    "#gen. \n",
    "# see the methods available on gen by hitting TAB after the 'gen.' try to `close()` the generator"
   ]
  },
  {
   "cell_type": "markdown",
   "id": "7232ac93",
   "metadata": {
    "collapsed": true
   },
   "source": [
    "Using list comprehensions and generator expressions one can do functional programming in Python. But this is not the same as doing pure functional programming in a language such as haskell (see [https://www.haskell.org/](https://www.haskell.org/)) that is designed specifically for pure funcitonal programming."
   ]
  },
  {
   "cell_type": "code",
   "execution_count": null,
   "id": "1a19babf",
   "metadata": {},
   "outputs": [],
   "source": [
    "Arrays"
   ]
  }
 ],
 "metadata": {
  "kernelspec": {
   "display_name": "SageMath 9.4",
   "language": "sage",
   "name": "sagemath"
  },
  "language_info": {
   "codemirror_mode": {
    "name": "ipython",
    "version": 3
   },
   "file_extension": ".py",
   "mimetype": "text/x-python",
   "name": "python",
   "nbconvert_exporter": "python",
   "pygments_lexer": "ipython3",
   "version": "3.8.12"
  }
 },
 "nbformat": 4,
 "nbformat_minor": 5
}
