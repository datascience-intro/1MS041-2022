{
 "cells": [
  {
   "cell_type": "markdown",
   "id": "311a95fb",
   "metadata": {},
   "source": [
    "## Second notebook on Random variables\n",
    "\n",
    "Lets take a look again at the spam dataset and look at our concepts there"
   ]
  },
  {
   "cell_type": "code",
   "execution_count": 2,
   "id": "e3b9da5c",
   "metadata": {},
   "outputs": [
    {
     "data": {
      "text/plain": [
       "[('Go until jurong point, crazy.. Available only in bugis n great world la e buffet... Cine there got amore wat...',\n",
       "  0),\n",
       " ('Ok lar... Joking wif u oni...', 0)]"
      ]
     },
     "execution_count": 2,
     "metadata": {},
     "output_type": "execute_result"
    }
   ],
   "source": [
    "load('Utils.sage')\n",
    "sms_data = load_sms()\n",
    "sms_data[:2]"
   ]
  },
  {
   "cell_type": "markdown",
   "id": "aee4acd8",
   "metadata": {},
   "source": [
    "Let $X$ be the random variable that represents each SMS text (an entry in the list), and let $Y$ represent whether text is spam or not i.e. $Y \\in \\{0,1\\}$. Thus $\\mathbb{P}(Y = 1)$ is the probability that we get a spam. The goal is to estimate:\n",
    "$$\n",
    "    \\mathbb{P}(Y = 1 | \\text{\"free\" or \"prize\" is in } X) \\enspace .\n",
    "$$\n",
    "That is, the probability that the SMS is spam given that \"free\" or \"prize\" occurs in the SMS. \n",
    "Hint: it is good to remove the upper/lower case of words so that we can also find \"Free\" and \"Prize\"; this can be done with `text.lower()` if `text` a string.\n",
    "\n",
    "To do this we can create a new random variable $Z$ which is $1$ if \"free\" or \"prize\" appears in $X$."
   ]
  },
  {
   "cell_type": "code",
   "execution_count": 9,
   "id": "8f38c024",
   "metadata": {},
   "outputs": [],
   "source": [
    "interesting_words=set(['free','prize'])\n",
    "TF10 = {True: 1, False: 0}\n",
    "Z_obs = [TF10[not interesting_words.isdisjoint([word.lower() for word in line[0].split(' ')])] for line in sms_data]"
   ]
  },
  {
   "cell_type": "code",
   "execution_count": 11,
   "id": "ba717d02",
   "metadata": {},
   "outputs": [
    {
     "data": {
      "text/plain": [
       "[0, 0, 1, 0, 0, 0, 0, 0, 1, 1]"
      ]
     },
     "execution_count": 11,
     "metadata": {},
     "output_type": "execute_result"
    }
   ],
   "source": [
    "Z_obs[:10]"
   ]
  },
  {
   "cell_type": "code",
   "execution_count": 13,
   "id": "87f504e7",
   "metadata": {},
   "outputs": [
    {
     "data": {
      "text/plain": [
       "[0, 0, 1, 0, 0, 1, 0, 0, 1, 1]"
      ]
     },
     "execution_count": 13,
     "metadata": {},
     "output_type": "execute_result"
    }
   ],
   "source": [
    "Y_obs = [y for x,y in sms_data]\n",
    "Y_obs[:10]"
   ]
  },
  {
   "cell_type": "code",
   "execution_count": 14,
   "id": "7975f689",
   "metadata": {},
   "outputs": [],
   "source": [
    "def F_X_12(x):\n",
    "    TF10 = {True: 1, False: 0}\n",
    "    return mean([TF10[(x1 <= x[0]) and (x2 <= x[1])] for x1,x2 in zip (Y_obs,Z_obs)])"
   ]
  },
  {
   "cell_type": "markdown",
   "id": "5bcf9c06",
   "metadata": {},
   "source": [
    "This is the JDF for this problem"
   ]
  },
  {
   "cell_type": "code",
   "execution_count": 20,
   "id": "c0085d13",
   "metadata": {},
   "outputs": [
    {
     "name": "stdout",
     "output_type": "stream",
     "text": [
      "0.857501794687724,\t0.865936826992103,\t\n",
      "\n",
      "0.955132806891601,\t1.00000000000000,\t\n",
      "\n"
     ]
    }
   ],
   "source": [
    "for x1 in range(0,2):\n",
    "    for x2 in range(0,2):\n",
    "        print(RR(F_X_12((x1,x2))),end=',\\t')\n",
    "    print('\\n')"
   ]
  },
  {
   "cell_type": "code",
   "execution_count": 31,
   "id": "2abeb3de",
   "metadata": {},
   "outputs": [
    {
     "data": {
      "text/plain": [
       "0.827084672155774"
      ]
     },
     "execution_count": 31,
     "metadata": {},
     "output_type": "execute_result"
    }
   ],
   "source": [
    "# Are they indepdentent? If so, then the JDF is just the product of the \n",
    "# DFs for Y and Z, but\n",
    "0.865936826992103*0.955132806891601"
   ]
  },
  {
   "cell_type": "markdown",
   "id": "0e02b5ce",
   "metadata": {},
   "source": [
    "Which is not 0.858, so they are not independent. So lets try to estimate the probability that $Y=1$ given that $Z = 1$. Lets again do that by filtering"
   ]
  },
  {
   "cell_type": "code",
   "execution_count": 35,
   "id": "c7e7f5be",
   "metadata": {},
   "outputs": [
    {
     "data": {
      "text/plain": [
       "0.812000000000000"
      ]
     },
     "execution_count": 35,
     "metadata": {},
     "output_type": "execute_result"
    }
   ],
   "source": [
    "RR(mean([y for z,y in zip(Z_obs,Y_obs) if z == 1]))"
   ]
  },
  {
   "cell_type": "markdown",
   "id": "3563793d",
   "metadata": {},
   "source": [
    "Compare that with the marginal probability of $Y = 1$, which is according to our JDF 1-0.866 = 0.134"
   ]
  },
  {
   "cell_type": "code",
   "execution_count": 38,
   "id": "12450e73",
   "metadata": {},
   "outputs": [
    {
     "data": {
      "text/plain": [
       "0.134063173007897"
      ]
     },
     "execution_count": 38,
     "metadata": {},
     "output_type": "execute_result"
    }
   ],
   "source": [
    "# Or we can just compute it directly\n",
    "RR(mean(Y_obs))"
   ]
  },
  {
   "cell_type": "markdown",
   "id": "ef9c1616",
   "metadata": {},
   "source": [
    "What we see from this is that knowing that the words \"free\" or \"prize\" appeared in the sms text, we are much more certain that it is a spam. We also see that looking directly at the JDF this can be hard to see, although it is equivalent."
   ]
  }
 ],
 "metadata": {
  "kernelspec": {
   "display_name": "SageMath 9.4",
   "language": "sage",
   "name": "sagemath"
  },
  "language_info": {
   "codemirror_mode": {
    "name": "ipython",
    "version": 3
   },
   "file_extension": ".py",
   "mimetype": "text/x-python",
   "name": "python",
   "nbconvert_exporter": "python",
   "pygments_lexer": "ipython3",
   "version": "3.8.12"
  }
 },
 "nbformat": 4,
 "nbformat_minor": 5
}
